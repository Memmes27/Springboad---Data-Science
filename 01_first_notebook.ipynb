{
 "cells": [
  {
   "cell_type": "code",
   "execution_count": 1,
   "metadata": {},
   "outputs": [
    {
     "name": "stdout",
     "output_type": "stream",
     "text": [
      "Enter your name: mike\n",
      "Hello mike\n"
     ]
    }
   ],
   "source": [
    "name = input(\"Enter your name: \")\n",
    "print(\"Hello \" + name)"
   ]
  },
  {
   "cell_type": "code",
   "execution_count": 5,
   "metadata": {},
   "outputs": [
    {
     "ename": "ModuleNotFoundError",
     "evalue": "No module named 'tensorflow'",
     "output_type": "error",
     "traceback": [
      "\u001b[1;31m---------------------------------------------------------------------------\u001b[0m",
      "\u001b[1;31mModuleNotFoundError\u001b[0m                       Traceback (most recent call last)",
      "\u001b[1;32m<ipython-input-5-8f41137eae38>\u001b[0m in \u001b[0;36m<module>\u001b[1;34m\u001b[0m\n\u001b[1;32m----> 1\u001b[1;33m \u001b[1;32mimport\u001b[0m \u001b[0mtensorflow\u001b[0m \u001b[1;32mas\u001b[0m \u001b[0mtf\u001b[0m\u001b[1;33m\u001b[0m\u001b[1;33m\u001b[0m\u001b[0m\n\u001b[0m\u001b[0;32m      2\u001b[0m \u001b[0mversion\u001b[0m \u001b[1;33m=\u001b[0m \u001b[0mstr\u001b[0m\u001b[1;33m(\u001b[0m\u001b[0mtf\u001b[0m\u001b[1;33m.\u001b[0m\u001b[0m__version__\u001b[0m\u001b[1;33m)\u001b[0m\u001b[1;33m\u001b[0m\u001b[1;33m\u001b[0m\u001b[0m\n\u001b[0;32m      3\u001b[0m \u001b[1;34m'This TF is version'\u001b[0m \u001b[1;33m+\u001b[0m \u001b[0mversion\u001b[0m\u001b[1;33m\u001b[0m\u001b[1;33m\u001b[0m\u001b[0m\n",
      "\u001b[1;31mModuleNotFoundError\u001b[0m: No module named 'tensorflow'"
     ]
    }
   ],
   "source": [
    "import tensorflow as tf\n",
    "version = str(tf.__version__)\n",
    "'This TF is version' + version"
   ]
  },
  {
   "cell_type": "code",
   "execution_count": 7,
   "metadata": {},
   "outputs": [
    {
     "name": "stdout",
     "output_type": "stream",
     "text": [
      "Wall time: 0 ns\n"
     ]
    }
   ],
   "source": [
    "%%time\n",
    "import pandas as pd\n",
    "#pd.read_csv()\n"
   ]
  },
  {
   "cell_type": "code",
   "execution_count": 10,
   "metadata": {
    "scrolled": true
   },
   "outputs": [
    {
     "name": "stdout",
     "output_type": "stream",
     "text": [
      "I'm print output 0\n",
      "I'm print output 1\n",
      "I'm print output 2\n",
      "I'm print output 3\n",
      "I'm print output 4\n",
      "I'm print output 5\n",
      "I'm print output 6\n",
      "I'm print output 7\n",
      "I'm print output 8\n",
      "I'm print output 9\n",
      "I'm print output 10\n",
      "I'm print output 11\n",
      "I'm print output 12\n",
      "I'm print output 13\n",
      "I'm print output 14\n",
      "I'm print output 15\n",
      "I'm print output 16\n",
      "I'm print output 17\n",
      "I'm print output 18\n",
      "I'm print output 19\n",
      "I'm print output 20\n",
      "I'm print output 21\n",
      "I'm print output 22\n",
      "I'm print output 23\n",
      "I'm print output 24\n",
      "I'm print output 25\n",
      "I'm print output 26\n",
      "I'm print output 27\n",
      "I'm print output 28\n",
      "I'm print output 29\n",
      "I'm print output 30\n",
      "I'm print output 31\n",
      "I'm print output 32\n",
      "I'm print output 33\n",
      "I'm print output 34\n",
      "I'm print output 35\n",
      "I'm print output 36\n",
      "I'm print output 37\n",
      "I'm print output 38\n",
      "I'm print output 39\n",
      "Wall time: 1.23 ms\n"
     ]
    }
   ],
   "source": [
    "%%time\n",
    "for i in range(40):\n",
    "    print(\"I'm print output {}\".format(i))"
   ]
  },
  {
   "cell_type": "markdown",
   "metadata": {},
   "source": [
    "# Introduction\n",
    "\n",
    "## This is my _first_ Jupyter Notebook"
   ]
  },
  {
   "cell_type": "markdown",
   "metadata": {},
   "source": [
    "<div class=\"alert alert-block alert-success\">\n",
    "<b>Up to you:</b> Use green boxes sparingly, and only for some specific \n",
    "purpose that the other boxes can't cover. For example, if you have a lot \n",
    "of related content to link to, maybe you decide to use green boxes for \n",
    "related links from each section of a notebook.\n",
    "</div>"
   ]
  },
  {
   "cell_type": "code",
   "execution_count": 11,
   "metadata": {},
   "outputs": [],
   "source": [
    "x =5\n",
    "y =6\n",
    "z = x+y"
   ]
  },
  {
   "cell_type": "code",
   "execution_count": 12,
   "metadata": {},
   "outputs": [
    {
     "data": {
      "text/plain": [
       "11"
      ]
     },
     "execution_count": 12,
     "metadata": {},
     "output_type": "execute_result"
    }
   ],
   "source": [
    "z"
   ]
  },
  {
   "cell_type": "code",
   "execution_count": null,
   "metadata": {},
   "outputs": [],
   "source": []
  }
 ],
 "metadata": {
  "kernelspec": {
   "display_name": "Python 3",
   "language": "python",
   "name": "python3"
  },
  "language_info": {
   "codemirror_mode": {
    "name": "ipython",
    "version": 3
   },
   "file_extension": ".py",
   "mimetype": "text/x-python",
   "name": "python",
   "nbconvert_exporter": "python",
   "pygments_lexer": "ipython3",
   "version": "3.8.5"
  }
 },
 "nbformat": 4,
 "nbformat_minor": 4
}
