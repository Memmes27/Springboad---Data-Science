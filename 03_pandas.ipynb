{
 "cells": [
  {
   "cell_type": "markdown",
   "metadata": {},
   "source": [
    "### 1. First we will set up  our enivronment in Jupyter\n",
    "\n",
    "  * If you don't have pandas_datareader, at the command line enter\n",
    "\n",
    "        > \"conda install -c pandas-datareader or pip install if you don't have Anaconda"
   ]
  },
  {
   "cell_type": "code",
   "execution_count": 2,
   "metadata": {},
   "outputs": [],
   "source": [
    "import numpy as np\n",
    "import pandas as pd\n",
    "%matplotlib inline\n",
    "import matplotlib.pyplot as plt\n",
    "import pandas_datareader as pdr"
   ]
  },
  {
   "cell_type": "markdown",
   "metadata": {},
   "source": [
    "### 2. Get Data (5yrs, GOOG AMZN)"
   ]
  },
  {
   "cell_type": "code",
   "execution_count": 3,
   "metadata": {},
   "outputs": [],
   "source": [
    "amzn = pdr.get_data_yahoo('AMZN', '20121101')\n",
    "goog = pdr.get_data_yahoo('GOOG', '2012-11-01')"
   ]
  },
  {
   "cell_type": "markdown",
   "metadata": {},
   "source": [
    "### 3. View head, tail, info"
   ]
  },
  {
   "cell_type": "code",
   "execution_count": 4,
   "metadata": {
    "scrolled": true
   },
   "outputs": [
    {
     "data": {
      "text/html": [
       "<div>\n",
       "<style scoped>\n",
       "    .dataframe tbody tr th:only-of-type {\n",
       "        vertical-align: middle;\n",
       "    }\n",
       "\n",
       "    .dataframe tbody tr th {\n",
       "        vertical-align: top;\n",
       "    }\n",
       "\n",
       "    .dataframe thead th {\n",
       "        text-align: right;\n",
       "    }\n",
       "</style>\n",
       "<table border=\"1\" class=\"dataframe\">\n",
       "  <thead>\n",
       "    <tr style=\"text-align: right;\">\n",
       "      <th></th>\n",
       "      <th>High</th>\n",
       "      <th>Low</th>\n",
       "      <th>Open</th>\n",
       "      <th>Close</th>\n",
       "      <th>Volume</th>\n",
       "      <th>Adj Close</th>\n",
       "    </tr>\n",
       "    <tr>\n",
       "      <th>Date</th>\n",
       "      <th></th>\n",
       "      <th></th>\n",
       "      <th></th>\n",
       "      <th></th>\n",
       "      <th></th>\n",
       "      <th></th>\n",
       "    </tr>\n",
       "  </thead>\n",
       "  <tbody>\n",
       "    <tr>\n",
       "      <th>2012-11-01</th>\n",
       "      <td>11.7275</td>\n",
       "      <td>11.5670</td>\n",
       "      <td>11.7115</td>\n",
       "      <td>11.6070</td>\n",
       "      <td>78102000.0</td>\n",
       "      <td>11.6070</td>\n",
       "    </tr>\n",
       "    <tr>\n",
       "      <th>2012-11-02</th>\n",
       "      <td>11.8700</td>\n",
       "      <td>11.6055</td>\n",
       "      <td>11.7005</td>\n",
       "      <td>11.6210</td>\n",
       "      <td>67494000.0</td>\n",
       "      <td>11.6210</td>\n",
       "    </tr>\n",
       "    <tr>\n",
       "      <th>2012-11-05</th>\n",
       "      <td>11.7415</td>\n",
       "      <td>11.5055</td>\n",
       "      <td>11.6020</td>\n",
       "      <td>11.7165</td>\n",
       "      <td>36922000.0</td>\n",
       "      <td>11.7165</td>\n",
       "    </tr>\n",
       "    <tr>\n",
       "      <th>2012-11-06</th>\n",
       "      <td>11.8875</td>\n",
       "      <td>11.7225</td>\n",
       "      <td>11.7705</td>\n",
       "      <td>11.8780</td>\n",
       "      <td>53226000.0</td>\n",
       "      <td>11.8780</td>\n",
       "    </tr>\n",
       "    <tr>\n",
       "      <th>2012-11-07</th>\n",
       "      <td>11.7830</td>\n",
       "      <td>11.4710</td>\n",
       "      <td>11.7825</td>\n",
       "      <td>11.6030</td>\n",
       "      <td>72484000.0</td>\n",
       "      <td>11.6030</td>\n",
       "    </tr>\n",
       "    <tr>\n",
       "      <th>2012-11-08</th>\n",
       "      <td>11.6725</td>\n",
       "      <td>11.3550</td>\n",
       "      <td>11.6110</td>\n",
       "      <td>11.3675</td>\n",
       "      <td>59648000.0</td>\n",
       "      <td>11.3675</td>\n",
       "    </tr>\n",
       "    <tr>\n",
       "      <th>2012-11-09</th>\n",
       "      <td>11.5485</td>\n",
       "      <td>11.2300</td>\n",
       "      <td>11.3130</td>\n",
       "      <td>11.3155</td>\n",
       "      <td>61850000.0</td>\n",
       "      <td>11.3155</td>\n",
       "    </tr>\n",
       "    <tr>\n",
       "      <th>2012-11-12</th>\n",
       "      <td>11.4610</td>\n",
       "      <td>11.2705</td>\n",
       "      <td>11.3295</td>\n",
       "      <td>11.3235</td>\n",
       "      <td>42576000.0</td>\n",
       "      <td>11.3235</td>\n",
       "    </tr>\n",
       "    <tr>\n",
       "      <th>2012-11-13</th>\n",
       "      <td>11.3950</td>\n",
       "      <td>11.2355</td>\n",
       "      <td>11.2560</td>\n",
       "      <td>11.3300</td>\n",
       "      <td>52596000.0</td>\n",
       "      <td>11.3300</td>\n",
       "    </tr>\n",
       "    <tr>\n",
       "      <th>2012-11-14</th>\n",
       "      <td>11.3705</td>\n",
       "      <td>11.1255</td>\n",
       "      <td>11.3250</td>\n",
       "      <td>11.1475</td>\n",
       "      <td>60682000.0</td>\n",
       "      <td>11.1475</td>\n",
       "    </tr>\n",
       "  </tbody>\n",
       "</table>\n",
       "</div>"
      ],
      "text/plain": [
       "               High      Low     Open    Close      Volume  Adj Close\n",
       "Date                                                                 \n",
       "2012-11-01  11.7275  11.5670  11.7115  11.6070  78102000.0    11.6070\n",
       "2012-11-02  11.8700  11.6055  11.7005  11.6210  67494000.0    11.6210\n",
       "2012-11-05  11.7415  11.5055  11.6020  11.7165  36922000.0    11.7165\n",
       "2012-11-06  11.8875  11.7225  11.7705  11.8780  53226000.0    11.8780\n",
       "2012-11-07  11.7830  11.4710  11.7825  11.6030  72484000.0    11.6030\n",
       "2012-11-08  11.6725  11.3550  11.6110  11.3675  59648000.0    11.3675\n",
       "2012-11-09  11.5485  11.2300  11.3130  11.3155  61850000.0    11.3155\n",
       "2012-11-12  11.4610  11.2705  11.3295  11.3235  42576000.0    11.3235\n",
       "2012-11-13  11.3950  11.2355  11.2560  11.3300  52596000.0    11.3300\n",
       "2012-11-14  11.3705  11.1255  11.3250  11.1475  60682000.0    11.1475"
      ]
     },
     "execution_count": 4,
     "metadata": {},
     "output_type": "execute_result"
    }
   ],
   "source": [
    "amzn.head(10)"
   ]
  },
  {
   "cell_type": "code",
   "execution_count": 5,
   "metadata": {
    "scrolled": true
   },
   "outputs": [
    {
     "data": {
      "text/html": [
       "<div>\n",
       "<style scoped>\n",
       "    .dataframe tbody tr th:only-of-type {\n",
       "        vertical-align: middle;\n",
       "    }\n",
       "\n",
       "    .dataframe tbody tr th {\n",
       "        vertical-align: top;\n",
       "    }\n",
       "\n",
       "    .dataframe thead th {\n",
       "        text-align: right;\n",
       "    }\n",
       "</style>\n",
       "<table border=\"1\" class=\"dataframe\">\n",
       "  <thead>\n",
       "    <tr style=\"text-align: right;\">\n",
       "      <th></th>\n",
       "      <th>High</th>\n",
       "      <th>Low</th>\n",
       "      <th>Open</th>\n",
       "      <th>Close</th>\n",
       "      <th>Volume</th>\n",
       "      <th>Adj Close</th>\n",
       "    </tr>\n",
       "    <tr>\n",
       "      <th>Date</th>\n",
       "      <th></th>\n",
       "      <th></th>\n",
       "      <th></th>\n",
       "      <th></th>\n",
       "      <th></th>\n",
       "      <th></th>\n",
       "    </tr>\n",
       "  </thead>\n",
       "  <tbody>\n",
       "    <tr>\n",
       "      <th>2022-10-20</th>\n",
       "      <td>118.239998</td>\n",
       "      <td>113.510002</td>\n",
       "      <td>113.830002</td>\n",
       "      <td>115.250000</td>\n",
       "      <td>48795100.0</td>\n",
       "      <td>115.250000</td>\n",
       "    </tr>\n",
       "    <tr>\n",
       "      <th>2022-10-21</th>\n",
       "      <td>119.589996</td>\n",
       "      <td>114.500000</td>\n",
       "      <td>114.790001</td>\n",
       "      <td>119.320000</td>\n",
       "      <td>55611900.0</td>\n",
       "      <td>119.320000</td>\n",
       "    </tr>\n",
       "    <tr>\n",
       "      <th>2022-10-24</th>\n",
       "      <td>120.389999</td>\n",
       "      <td>116.570000</td>\n",
       "      <td>119.980003</td>\n",
       "      <td>119.820000</td>\n",
       "      <td>49531500.0</td>\n",
       "      <td>119.820000</td>\n",
       "    </tr>\n",
       "    <tr>\n",
       "      <th>2022-10-25</th>\n",
       "      <td>121.320000</td>\n",
       "      <td>118.949997</td>\n",
       "      <td>119.650002</td>\n",
       "      <td>120.599998</td>\n",
       "      <td>50934600.0</td>\n",
       "      <td>120.599998</td>\n",
       "    </tr>\n",
       "    <tr>\n",
       "      <th>2022-10-26</th>\n",
       "      <td>119.349998</td>\n",
       "      <td>114.760002</td>\n",
       "      <td>116.000000</td>\n",
       "      <td>115.660004</td>\n",
       "      <td>68802300.0</td>\n",
       "      <td>115.660004</td>\n",
       "    </tr>\n",
       "  </tbody>\n",
       "</table>\n",
       "</div>"
      ],
      "text/plain": [
       "                  High         Low        Open       Close      Volume  \\\n",
       "Date                                                                     \n",
       "2022-10-20  118.239998  113.510002  113.830002  115.250000  48795100.0   \n",
       "2022-10-21  119.589996  114.500000  114.790001  119.320000  55611900.0   \n",
       "2022-10-24  120.389999  116.570000  119.980003  119.820000  49531500.0   \n",
       "2022-10-25  121.320000  118.949997  119.650002  120.599998  50934600.0   \n",
       "2022-10-26  119.349998  114.760002  116.000000  115.660004  68802300.0   \n",
       "\n",
       "             Adj Close  \n",
       "Date                    \n",
       "2022-10-20  115.250000  \n",
       "2022-10-21  119.320000  \n",
       "2022-10-24  119.820000  \n",
       "2022-10-25  120.599998  \n",
       "2022-10-26  115.660004  "
      ]
     },
     "execution_count": 5,
     "metadata": {},
     "output_type": "execute_result"
    }
   ],
   "source": [
    "amzn.tail()"
   ]
  },
  {
   "cell_type": "code",
   "execution_count": 6,
   "metadata": {},
   "outputs": [
    {
     "name": "stdout",
     "output_type": "stream",
     "text": [
      "<class 'pandas.core.frame.DataFrame'>\n",
      "DatetimeIndex: 2514 entries, 2012-11-01 to 2022-10-26\n",
      "Data columns (total 6 columns):\n",
      " #   Column     Non-Null Count  Dtype  \n",
      "---  ------     --------------  -----  \n",
      " 0   High       2514 non-null   float64\n",
      " 1   Low        2514 non-null   float64\n",
      " 2   Open       2514 non-null   float64\n",
      " 3   Close      2514 non-null   float64\n",
      " 4   Volume     2514 non-null   float64\n",
      " 5   Adj Close  2514 non-null   float64\n",
      "dtypes: float64(6)\n",
      "memory usage: 137.5 KB\n",
      "<class 'pandas.core.frame.DataFrame'>\n",
      "DatetimeIndex: 2514 entries, 2012-11-01 to 2022-10-26\n",
      "Data columns (total 6 columns):\n",
      " #   Column     Non-Null Count  Dtype  \n",
      "---  ------     --------------  -----  \n",
      " 0   High       2514 non-null   float64\n",
      " 1   Low        2514 non-null   float64\n",
      " 2   Open       2514 non-null   float64\n",
      " 3   Close      2514 non-null   float64\n",
      " 4   Volume     2514 non-null   float64\n",
      " 5   Adj Close  2514 non-null   float64\n",
      "dtypes: float64(6)\n",
      "memory usage: 137.5 KB\n",
      "None None\n"
     ]
    }
   ],
   "source": [
    "print(amzn.info(), goog.info())"
   ]
  },
  {
   "cell_type": "markdown",
   "metadata": {},
   "source": [
    "### 4. Filtering using .loc, .iloc, index"
   ]
  },
  {
   "cell_type": "code",
   "execution_count": 7,
   "metadata": {},
   "outputs": [
    {
     "data": {
      "text/plain": [
       "Date\n",
       "2020-01-02     93.750000\n",
       "2020-01-03     93.224998\n",
       "2020-01-06     93.000000\n",
       "2020-01-07     95.224998\n",
       "2020-01-08     94.902000\n",
       "                 ...    \n",
       "2020-12-24    159.695007\n",
       "2020-12-28    159.699997\n",
       "2020-12-29    165.496994\n",
       "2020-12-30    167.050003\n",
       "2020-12-31    163.750000\n",
       "Name: Open, Length: 253, dtype: float64"
      ]
     },
     "execution_count": 7,
     "metadata": {},
     "output_type": "execute_result"
    }
   ],
   "source": [
    "amzn.loc['2020', 'Open']"
   ]
  },
  {
   "cell_type": "code",
   "execution_count": 8,
   "metadata": {},
   "outputs": [
    {
     "data": {
      "text/plain": [
       "Date\n",
       "2012-11-01     11.71\n",
       "2012-11-02     11.70\n",
       "2012-11-05     11.60\n",
       "2012-11-06     11.77\n",
       "2012-11-07     11.78\n",
       "               ...  \n",
       "2022-10-20    113.83\n",
       "2022-10-21    114.79\n",
       "2022-10-24    119.98\n",
       "2022-10-25    119.65\n",
       "2022-10-26    116.00\n",
       "Name: Open, Length: 2514, dtype: float64"
      ]
     },
     "execution_count": 8,
     "metadata": {},
     "output_type": "execute_result"
    }
   ],
   "source": [
    "amzn.loc[:, 'Open'].round(decimals =2)"
   ]
  },
  {
   "cell_type": "code",
   "execution_count": 9,
   "metadata": {},
   "outputs": [
    {
     "data": {
      "text/plain": [
       "11.567000389099121"
      ]
     },
     "execution_count": 9,
     "metadata": {},
     "output_type": "execute_result"
    }
   ],
   "source": [
    "amzn.iloc[0,1]"
   ]
  },
  {
   "cell_type": "code",
   "execution_count": 10,
   "metadata": {},
   "outputs": [
    {
     "data": {
      "text/html": [
       "<div>\n",
       "<style scoped>\n",
       "    .dataframe tbody tr th:only-of-type {\n",
       "        vertical-align: middle;\n",
       "    }\n",
       "\n",
       "    .dataframe tbody tr th {\n",
       "        vertical-align: top;\n",
       "    }\n",
       "\n",
       "    .dataframe thead th {\n",
       "        text-align: right;\n",
       "    }\n",
       "</style>\n",
       "<table border=\"1\" class=\"dataframe\">\n",
       "  <thead>\n",
       "    <tr style=\"text-align: right;\">\n",
       "      <th></th>\n",
       "      <th>High</th>\n",
       "      <th>Low</th>\n",
       "      <th>Open</th>\n",
       "      <th>Close</th>\n",
       "      <th>Volume</th>\n",
       "      <th>Adj Close</th>\n",
       "    </tr>\n",
       "    <tr>\n",
       "      <th>Date</th>\n",
       "      <th></th>\n",
       "      <th></th>\n",
       "      <th></th>\n",
       "      <th></th>\n",
       "      <th></th>\n",
       "      <th></th>\n",
       "    </tr>\n",
       "  </thead>\n",
       "  <tbody>\n",
       "    <tr>\n",
       "      <th>2020-12-31</th>\n",
       "      <td>164.145996</td>\n",
       "      <td>162.059998</td>\n",
       "      <td>163.750000</td>\n",
       "      <td>162.846497</td>\n",
       "      <td>59144000.0</td>\n",
       "      <td>162.846497</td>\n",
       "    </tr>\n",
       "    <tr>\n",
       "      <th>2020-12-30</th>\n",
       "      <td>167.104996</td>\n",
       "      <td>164.123505</td>\n",
       "      <td>167.050003</td>\n",
       "      <td>164.292496</td>\n",
       "      <td>64186000.0</td>\n",
       "      <td>164.292496</td>\n",
       "    </tr>\n",
       "    <tr>\n",
       "      <th>2020-12-29</th>\n",
       "      <td>167.532501</td>\n",
       "      <td>164.061005</td>\n",
       "      <td>165.496994</td>\n",
       "      <td>166.100006</td>\n",
       "      <td>97458000.0</td>\n",
       "      <td>166.100006</td>\n",
       "    </tr>\n",
       "    <tr>\n",
       "      <th>2020-12-28</th>\n",
       "      <td>165.199997</td>\n",
       "      <td>158.634506</td>\n",
       "      <td>159.699997</td>\n",
       "      <td>164.197998</td>\n",
       "      <td>113736000.0</td>\n",
       "      <td>164.197998</td>\n",
       "    </tr>\n",
       "    <tr>\n",
       "      <th>2020-12-24</th>\n",
       "      <td>160.100006</td>\n",
       "      <td>158.449997</td>\n",
       "      <td>159.695007</td>\n",
       "      <td>158.634506</td>\n",
       "      <td>29038000.0</td>\n",
       "      <td>158.634506</td>\n",
       "    </tr>\n",
       "    <tr>\n",
       "      <th>...</th>\n",
       "      <td>...</td>\n",
       "      <td>...</td>\n",
       "      <td>...</td>\n",
       "      <td>...</td>\n",
       "      <td>...</td>\n",
       "      <td>...</td>\n",
       "    </tr>\n",
       "    <tr>\n",
       "      <th>2017-11-08</th>\n",
       "      <td>56.777000</td>\n",
       "      <td>55.955502</td>\n",
       "      <td>56.140999</td>\n",
       "      <td>56.644001</td>\n",
       "      <td>51630000.0</td>\n",
       "      <td>56.644001</td>\n",
       "    </tr>\n",
       "    <tr>\n",
       "      <th>2017-11-07</th>\n",
       "      <td>56.529999</td>\n",
       "      <td>55.875000</td>\n",
       "      <td>56.237000</td>\n",
       "      <td>56.158501</td>\n",
       "      <td>53780000.0</td>\n",
       "      <td>56.158501</td>\n",
       "    </tr>\n",
       "    <tr>\n",
       "      <th>2017-11-06</th>\n",
       "      <td>56.270500</td>\n",
       "      <td>55.438499</td>\n",
       "      <td>55.457500</td>\n",
       "      <td>56.033001</td>\n",
       "      <td>67622000.0</td>\n",
       "      <td>56.033001</td>\n",
       "    </tr>\n",
       "    <tr>\n",
       "      <th>2017-11-03</th>\n",
       "      <td>55.633999</td>\n",
       "      <td>54.425999</td>\n",
       "      <td>54.557499</td>\n",
       "      <td>55.580002</td>\n",
       "      <td>75030000.0</td>\n",
       "      <td>55.580002</td>\n",
       "    </tr>\n",
       "    <tr>\n",
       "      <th>2017-11-02</th>\n",
       "      <td>55.097000</td>\n",
       "      <td>54.343498</td>\n",
       "      <td>54.890499</td>\n",
       "      <td>54.710999</td>\n",
       "      <td>73698000.0</td>\n",
       "      <td>54.710999</td>\n",
       "    </tr>\n",
       "  </tbody>\n",
       "</table>\n",
       "<p>796 rows × 6 columns</p>\n",
       "</div>"
      ],
      "text/plain": [
       "                  High         Low        Open       Close       Volume  \\\n",
       "Date                                                                      \n",
       "2020-12-31  164.145996  162.059998  163.750000  162.846497   59144000.0   \n",
       "2020-12-30  167.104996  164.123505  167.050003  164.292496   64186000.0   \n",
       "2020-12-29  167.532501  164.061005  165.496994  166.100006   97458000.0   \n",
       "2020-12-28  165.199997  158.634506  159.699997  164.197998  113736000.0   \n",
       "2020-12-24  160.100006  158.449997  159.695007  158.634506   29038000.0   \n",
       "...                ...         ...         ...         ...          ...   \n",
       "2017-11-08   56.777000   55.955502   56.140999   56.644001   51630000.0   \n",
       "2017-11-07   56.529999   55.875000   56.237000   56.158501   53780000.0   \n",
       "2017-11-06   56.270500   55.438499   55.457500   56.033001   67622000.0   \n",
       "2017-11-03   55.633999   54.425999   54.557499   55.580002   75030000.0   \n",
       "2017-11-02   55.097000   54.343498   54.890499   54.710999   73698000.0   \n",
       "\n",
       "             Adj Close  \n",
       "Date                    \n",
       "2020-12-31  162.846497  \n",
       "2020-12-30  164.292496  \n",
       "2020-12-29  166.100006  \n",
       "2020-12-28  164.197998  \n",
       "2020-12-24  158.634506  \n",
       "...                ...  \n",
       "2017-11-08   56.644001  \n",
       "2017-11-07   56.158501  \n",
       "2017-11-06   56.033001  \n",
       "2017-11-03   55.580002  \n",
       "2017-11-02   54.710999  \n",
       "\n",
       "[796 rows x 6 columns]"
      ]
     },
     "execution_count": 10,
     "metadata": {},
     "output_type": "execute_result"
    }
   ],
   "source": [
    "amzn[(amzn.index > '2017-11-01') & (amzn.index < '2021-01-02')].sort_index(axis =0, ascending=False)"
   ]
  },
  {
   "cell_type": "markdown",
   "metadata": {},
   "source": [
    "### 5. Filtering with criteria"
   ]
  },
  {
   "cell_type": "code",
   "execution_count": 11,
   "metadata": {},
   "outputs": [
    {
     "name": "stdout",
     "output_type": "stream",
     "text": [
      "Mean: 79797167.62, Std: 42170421.23\n"
     ]
    }
   ],
   "source": [
    "print('Mean: %.2f, Std: %.2f'% (amzn['Volume'].mean(), amzn['Volume'].std()))"
   ]
  },
  {
   "cell_type": "code",
   "execution_count": 12,
   "metadata": {},
   "outputs": [],
   "source": [
    "high = amzn['Volume'].mean() + 2*amzn['Volume'].std()"
   ]
  },
  {
   "cell_type": "code",
   "execution_count": 13,
   "metadata": {},
   "outputs": [
    {
     "data": {
      "text/html": [
       "<div>\n",
       "<style scoped>\n",
       "    .dataframe tbody tr th:only-of-type {\n",
       "        vertical-align: middle;\n",
       "    }\n",
       "\n",
       "    .dataframe tbody tr th {\n",
       "        vertical-align: top;\n",
       "    }\n",
       "\n",
       "    .dataframe thead th {\n",
       "        text-align: right;\n",
       "    }\n",
       "</style>\n",
       "<table border=\"1\" class=\"dataframe\">\n",
       "  <thead>\n",
       "    <tr style=\"text-align: right;\">\n",
       "      <th></th>\n",
       "      <th>High</th>\n",
       "      <th>Low</th>\n",
       "      <th>Open</th>\n",
       "      <th>Close</th>\n",
       "      <th>Volume</th>\n",
       "      <th>Adj Close</th>\n",
       "    </tr>\n",
       "    <tr>\n",
       "      <th>Date</th>\n",
       "      <th></th>\n",
       "      <th></th>\n",
       "      <th></th>\n",
       "      <th></th>\n",
       "      <th></th>\n",
       "      <th></th>\n",
       "    </tr>\n",
       "  </thead>\n",
       "  <tbody>\n",
       "    <tr>\n",
       "      <th>2013-01-29</th>\n",
       "      <td>13.773000</td>\n",
       "      <td>12.917500</td>\n",
       "      <td>13.767500</td>\n",
       "      <td>13.017500</td>\n",
       "      <td>203452000.0</td>\n",
       "      <td>13.017500</td>\n",
       "    </tr>\n",
       "    <tr>\n",
       "      <th>2013-01-30</th>\n",
       "      <td>14.210000</td>\n",
       "      <td>13.355500</td>\n",
       "      <td>14.150000</td>\n",
       "      <td>13.638000</td>\n",
       "      <td>261508000.0</td>\n",
       "      <td>13.638000</td>\n",
       "    </tr>\n",
       "    <tr>\n",
       "      <th>2013-04-26</th>\n",
       "      <td>13.601000</td>\n",
       "      <td>12.640500</td>\n",
       "      <td>13.498500</td>\n",
       "      <td>12.740500</td>\n",
       "      <td>280600000.0</td>\n",
       "      <td>12.740500</td>\n",
       "    </tr>\n",
       "    <tr>\n",
       "      <th>2013-07-26</th>\n",
       "      <td>15.681000</td>\n",
       "      <td>14.777500</td>\n",
       "      <td>14.977500</td>\n",
       "      <td>15.600500</td>\n",
       "      <td>176350000.0</td>\n",
       "      <td>15.600500</td>\n",
       "    </tr>\n",
       "    <tr>\n",
       "      <th>2013-10-25</th>\n",
       "      <td>18.420000</td>\n",
       "      <td>17.631001</td>\n",
       "      <td>17.930000</td>\n",
       "      <td>18.169500</td>\n",
       "      <td>240736000.0</td>\n",
       "      <td>18.169500</td>\n",
       "    </tr>\n",
       "    <tr>\n",
       "      <th>...</th>\n",
       "      <td>...</td>\n",
       "      <td>...</td>\n",
       "      <td>...</td>\n",
       "      <td>...</td>\n",
       "      <td>...</td>\n",
       "      <td>...</td>\n",
       "    </tr>\n",
       "    <tr>\n",
       "      <th>2020-10-30</th>\n",
       "      <td>158.350006</td>\n",
       "      <td>150.949997</td>\n",
       "      <td>157.887497</td>\n",
       "      <td>151.807495</td>\n",
       "      <td>167728000.0</td>\n",
       "      <td>151.807495</td>\n",
       "    </tr>\n",
       "    <tr>\n",
       "      <th>2021-07-30</th>\n",
       "      <td>168.406998</td>\n",
       "      <td>165.348999</td>\n",
       "      <td>167.397507</td>\n",
       "      <td>166.379501</td>\n",
       "      <td>199312000.0</td>\n",
       "      <td>166.379501</td>\n",
       "    </tr>\n",
       "    <tr>\n",
       "      <th>2022-02-03</th>\n",
       "      <td>144.247498</td>\n",
       "      <td>138.332993</td>\n",
       "      <td>141.737503</td>\n",
       "      <td>138.845505</td>\n",
       "      <td>225532000.0</td>\n",
       "      <td>138.845505</td>\n",
       "    </tr>\n",
       "    <tr>\n",
       "      <th>2022-02-04</th>\n",
       "      <td>161.199997</td>\n",
       "      <td>150.608002</td>\n",
       "      <td>155.606506</td>\n",
       "      <td>157.639496</td>\n",
       "      <td>253456000.0</td>\n",
       "      <td>157.639496</td>\n",
       "    </tr>\n",
       "    <tr>\n",
       "      <th>2022-04-29</th>\n",
       "      <td>130.761002</td>\n",
       "      <td>121.625000</td>\n",
       "      <td>129.848999</td>\n",
       "      <td>124.281502</td>\n",
       "      <td>272662000.0</td>\n",
       "      <td>124.281502</td>\n",
       "    </tr>\n",
       "  </tbody>\n",
       "</table>\n",
       "<p>105 rows × 6 columns</p>\n",
       "</div>"
      ],
      "text/plain": [
       "                  High         Low        Open       Close       Volume  \\\n",
       "Date                                                                      \n",
       "2013-01-29   13.773000   12.917500   13.767500   13.017500  203452000.0   \n",
       "2013-01-30   14.210000   13.355500   14.150000   13.638000  261508000.0   \n",
       "2013-04-26   13.601000   12.640500   13.498500   12.740500  280600000.0   \n",
       "2013-07-26   15.681000   14.777500   14.977500   15.600500  176350000.0   \n",
       "2013-10-25   18.420000   17.631001   17.930000   18.169500  240736000.0   \n",
       "...                ...         ...         ...         ...          ...   \n",
       "2020-10-30  158.350006  150.949997  157.887497  151.807495  167728000.0   \n",
       "2021-07-30  168.406998  165.348999  167.397507  166.379501  199312000.0   \n",
       "2022-02-03  144.247498  138.332993  141.737503  138.845505  225532000.0   \n",
       "2022-02-04  161.199997  150.608002  155.606506  157.639496  253456000.0   \n",
       "2022-04-29  130.761002  121.625000  129.848999  124.281502  272662000.0   \n",
       "\n",
       "             Adj Close  \n",
       "Date                    \n",
       "2013-01-29   13.017500  \n",
       "2013-01-30   13.638000  \n",
       "2013-04-26   12.740500  \n",
       "2013-07-26   15.600500  \n",
       "2013-10-25   18.169500  \n",
       "...                ...  \n",
       "2020-10-30  151.807495  \n",
       "2021-07-30  166.379501  \n",
       "2022-02-03  138.845505  \n",
       "2022-02-04  157.639496  \n",
       "2022-04-29  124.281502  \n",
       "\n",
       "[105 rows x 6 columns]"
      ]
     },
     "execution_count": 13,
     "metadata": {},
     "output_type": "execute_result"
    }
   ],
   "source": [
    "amzn[amzn.Volume > high]"
   ]
  },
  {
   "cell_type": "code",
   "execution_count": 14,
   "metadata": {},
   "outputs": [
    {
     "data": {
      "text/plain": [
       "High         float64\n",
       "Low          float64\n",
       "Open         float64\n",
       "Close        float64\n",
       "Volume       float64\n",
       "Adj Close    float64\n",
       "dtype: object"
      ]
     },
     "execution_count": 14,
     "metadata": {},
     "output_type": "execute_result"
    }
   ],
   "source": [
    "(amzn[amzn.Volume > high]).dtypes"
   ]
  },
  {
   "cell_type": "code",
   "execution_count": 15,
   "metadata": {},
   "outputs": [
    {
     "data": {
      "text/plain": [
       "105"
      ]
     },
     "execution_count": 15,
     "metadata": {},
     "output_type": "execute_result"
    }
   ],
   "source": [
    "len(amzn[amzn.Volume > high])"
   ]
  },
  {
   "cell_type": "code",
   "execution_count": 16,
   "metadata": {},
   "outputs": [
    {
     "data": {
      "text/plain": [
       "4.176610978520286"
      ]
     },
     "execution_count": 16,
     "metadata": {},
     "output_type": "execute_result"
    }
   ],
   "source": [
    "len(amzn[amzn.Volume > high]) / len(amzn) * 100"
   ]
  },
  {
   "cell_type": "code",
   "execution_count": 17,
   "metadata": {},
   "outputs": [
    {
     "name": "stdout",
     "output_type": "stream",
     "text": [
      "Almost 4.18 percent of the days are high volume\n"
     ]
    }
   ],
   "source": [
    "print('Almost %.2f percent of the days are high volume' %(len(amzn[amzn.Volume > high]) / len(amzn) * 100) )"
   ]
  },
  {
   "cell_type": "markdown",
   "metadata": {},
   "source": [
    "### 6. Adding Columns"
   ]
  },
  {
   "cell_type": "code",
   "execution_count": 18,
   "metadata": {},
   "outputs": [],
   "source": [
    "amzn['pct_chng'] = amzn.Close.pct_change()"
   ]
  },
  {
   "cell_type": "code",
   "execution_count": 19,
   "metadata": {},
   "outputs": [
    {
     "data": {
      "text/html": [
       "<div>\n",
       "<style scoped>\n",
       "    .dataframe tbody tr th:only-of-type {\n",
       "        vertical-align: middle;\n",
       "    }\n",
       "\n",
       "    .dataframe tbody tr th {\n",
       "        vertical-align: top;\n",
       "    }\n",
       "\n",
       "    .dataframe thead th {\n",
       "        text-align: right;\n",
       "    }\n",
       "</style>\n",
       "<table border=\"1\" class=\"dataframe\">\n",
       "  <thead>\n",
       "    <tr style=\"text-align: right;\">\n",
       "      <th></th>\n",
       "      <th>High</th>\n",
       "      <th>Low</th>\n",
       "      <th>Open</th>\n",
       "      <th>Close</th>\n",
       "      <th>Volume</th>\n",
       "      <th>Adj Close</th>\n",
       "      <th>pct_chng</th>\n",
       "    </tr>\n",
       "    <tr>\n",
       "      <th>Date</th>\n",
       "      <th></th>\n",
       "      <th></th>\n",
       "      <th></th>\n",
       "      <th></th>\n",
       "      <th></th>\n",
       "      <th></th>\n",
       "      <th></th>\n",
       "    </tr>\n",
       "  </thead>\n",
       "  <tbody>\n",
       "    <tr>\n",
       "      <th>2012-11-01</th>\n",
       "      <td>11.7275</td>\n",
       "      <td>11.5670</td>\n",
       "      <td>11.7115</td>\n",
       "      <td>11.6070</td>\n",
       "      <td>78102000.0</td>\n",
       "      <td>11.6070</td>\n",
       "      <td>NaN</td>\n",
       "    </tr>\n",
       "    <tr>\n",
       "      <th>2012-11-02</th>\n",
       "      <td>11.8700</td>\n",
       "      <td>11.6055</td>\n",
       "      <td>11.7005</td>\n",
       "      <td>11.6210</td>\n",
       "      <td>67494000.0</td>\n",
       "      <td>11.6210</td>\n",
       "      <td>0.001206</td>\n",
       "    </tr>\n",
       "    <tr>\n",
       "      <th>2012-11-05</th>\n",
       "      <td>11.7415</td>\n",
       "      <td>11.5055</td>\n",
       "      <td>11.6020</td>\n",
       "      <td>11.7165</td>\n",
       "      <td>36922000.0</td>\n",
       "      <td>11.7165</td>\n",
       "      <td>0.008218</td>\n",
       "    </tr>\n",
       "    <tr>\n",
       "      <th>2012-11-06</th>\n",
       "      <td>11.8875</td>\n",
       "      <td>11.7225</td>\n",
       "      <td>11.7705</td>\n",
       "      <td>11.8780</td>\n",
       "      <td>53226000.0</td>\n",
       "      <td>11.8780</td>\n",
       "      <td>0.013784</td>\n",
       "    </tr>\n",
       "    <tr>\n",
       "      <th>2012-11-07</th>\n",
       "      <td>11.7830</td>\n",
       "      <td>11.4710</td>\n",
       "      <td>11.7825</td>\n",
       "      <td>11.6030</td>\n",
       "      <td>72484000.0</td>\n",
       "      <td>11.6030</td>\n",
       "      <td>-0.023152</td>\n",
       "    </tr>\n",
       "  </tbody>\n",
       "</table>\n",
       "</div>"
      ],
      "text/plain": [
       "               High      Low     Open    Close      Volume  Adj Close  \\\n",
       "Date                                                                    \n",
       "2012-11-01  11.7275  11.5670  11.7115  11.6070  78102000.0    11.6070   \n",
       "2012-11-02  11.8700  11.6055  11.7005  11.6210  67494000.0    11.6210   \n",
       "2012-11-05  11.7415  11.5055  11.6020  11.7165  36922000.0    11.7165   \n",
       "2012-11-06  11.8875  11.7225  11.7705  11.8780  53226000.0    11.8780   \n",
       "2012-11-07  11.7830  11.4710  11.7825  11.6030  72484000.0    11.6030   \n",
       "\n",
       "            pct_chng  \n",
       "Date                  \n",
       "2012-11-01       NaN  \n",
       "2012-11-02  0.001206  \n",
       "2012-11-05  0.008218  \n",
       "2012-11-06  0.013784  \n",
       "2012-11-07 -0.023152  "
      ]
     },
     "execution_count": 19,
     "metadata": {},
     "output_type": "execute_result"
    }
   ],
   "source": [
    "#amzn.drop(columns= 'Mo_change')\n",
    "amzn.head()"
   ]
  },
  {
   "cell_type": "code",
   "execution_count": 20,
   "metadata": {},
   "outputs": [
    {
     "data": {
      "text/html": [
       "<div>\n",
       "<style scoped>\n",
       "    .dataframe tbody tr th:only-of-type {\n",
       "        vertical-align: middle;\n",
       "    }\n",
       "\n",
       "    .dataframe tbody tr th {\n",
       "        vertical-align: top;\n",
       "    }\n",
       "\n",
       "    .dataframe thead th {\n",
       "        text-align: right;\n",
       "    }\n",
       "</style>\n",
       "<table border=\"1\" class=\"dataframe\">\n",
       "  <thead>\n",
       "    <tr style=\"text-align: right;\">\n",
       "      <th></th>\n",
       "      <th>High</th>\n",
       "      <th>Low</th>\n",
       "      <th>Open</th>\n",
       "      <th>Close</th>\n",
       "      <th>Volume</th>\n",
       "      <th>Adj Close</th>\n",
       "      <th>pct_chng</th>\n",
       "    </tr>\n",
       "    <tr>\n",
       "      <th>Date</th>\n",
       "      <th></th>\n",
       "      <th></th>\n",
       "      <th></th>\n",
       "      <th></th>\n",
       "      <th></th>\n",
       "      <th></th>\n",
       "      <th></th>\n",
       "    </tr>\n",
       "  </thead>\n",
       "  <tbody>\n",
       "    <tr>\n",
       "      <th>2012-11-01</th>\n",
       "      <td>11.7275</td>\n",
       "      <td>11.5670</td>\n",
       "      <td>11.7115</td>\n",
       "      <td>11.6070</td>\n",
       "      <td>78102000.0</td>\n",
       "      <td>11.6070</td>\n",
       "      <td>NaN</td>\n",
       "    </tr>\n",
       "    <tr>\n",
       "      <th>2012-11-02</th>\n",
       "      <td>11.8700</td>\n",
       "      <td>11.6055</td>\n",
       "      <td>11.7005</td>\n",
       "      <td>11.6210</td>\n",
       "      <td>67494000.0</td>\n",
       "      <td>11.6210</td>\n",
       "      <td>0.001206</td>\n",
       "    </tr>\n",
       "    <tr>\n",
       "      <th>2012-11-05</th>\n",
       "      <td>11.7415</td>\n",
       "      <td>11.5055</td>\n",
       "      <td>11.6020</td>\n",
       "      <td>11.7165</td>\n",
       "      <td>36922000.0</td>\n",
       "      <td>11.7165</td>\n",
       "      <td>0.008218</td>\n",
       "    </tr>\n",
       "    <tr>\n",
       "      <th>2012-11-06</th>\n",
       "      <td>11.8875</td>\n",
       "      <td>11.7225</td>\n",
       "      <td>11.7705</td>\n",
       "      <td>11.8780</td>\n",
       "      <td>53226000.0</td>\n",
       "      <td>11.8780</td>\n",
       "      <td>0.013784</td>\n",
       "    </tr>\n",
       "    <tr>\n",
       "      <th>2012-11-07</th>\n",
       "      <td>11.7830</td>\n",
       "      <td>11.4710</td>\n",
       "      <td>11.7825</td>\n",
       "      <td>11.6030</td>\n",
       "      <td>72484000.0</td>\n",
       "      <td>11.6030</td>\n",
       "      <td>-0.023152</td>\n",
       "    </tr>\n",
       "  </tbody>\n",
       "</table>\n",
       "</div>"
      ],
      "text/plain": [
       "               High      Low     Open    Close      Volume  Adj Close  \\\n",
       "Date                                                                    \n",
       "2012-11-01  11.7275  11.5670  11.7115  11.6070  78102000.0    11.6070   \n",
       "2012-11-02  11.8700  11.6055  11.7005  11.6210  67494000.0    11.6210   \n",
       "2012-11-05  11.7415  11.5055  11.6020  11.7165  36922000.0    11.7165   \n",
       "2012-11-06  11.8875  11.7225  11.7705  11.8780  53226000.0    11.8780   \n",
       "2012-11-07  11.7830  11.4710  11.7825  11.6030  72484000.0    11.6030   \n",
       "\n",
       "            pct_chng  \n",
       "Date                  \n",
       "2012-11-01       NaN  \n",
       "2012-11-02  0.001206  \n",
       "2012-11-05  0.008218  \n",
       "2012-11-06  0.013784  \n",
       "2012-11-07 -0.023152  "
      ]
     },
     "execution_count": 20,
     "metadata": {},
     "output_type": "execute_result"
    }
   ],
   "source": [
    "amzn.head()"
   ]
  },
  {
   "cell_type": "markdown",
   "metadata": {},
   "source": [
    "### 7. Appending Data\n"
   ]
  },
  {
   "cell_type": "code",
   "execution_count": 21,
   "metadata": {},
   "outputs": [],
   "source": [
    "goog_11 = goog.loc['2017-11']\n",
    "amzn_11 = amzn.loc['2017-11']"
   ]
  },
  {
   "cell_type": "code",
   "execution_count": 22,
   "metadata": {},
   "outputs": [
    {
     "name": "stdout",
     "output_type": "stream",
     "text": [
      "<class 'pandas.core.frame.DataFrame'>\n",
      "DatetimeIndex: 42 entries, 2017-11-01 to 2017-11-30\n",
      "Data columns (total 7 columns):\n",
      " #   Column     Non-Null Count  Dtype  \n",
      "---  ------     --------------  -----  \n",
      " 0   High       42 non-null     float64\n",
      " 1   Low        42 non-null     float64\n",
      " 2   Open       42 non-null     float64\n",
      " 3   Close      42 non-null     float64\n",
      " 4   Volume     42 non-null     float64\n",
      " 5   Adj Close  42 non-null     float64\n",
      " 6   pct_chng   21 non-null     float64\n",
      "dtypes: float64(7)\n",
      "memory usage: 2.6 KB\n"
     ]
    }
   ],
   "source": [
    "goog_11.append(amzn_11).info()"
   ]
  },
  {
   "cell_type": "code",
   "execution_count": 23,
   "metadata": {},
   "outputs": [
    {
     "data": {
      "text/html": [
       "<div>\n",
       "<style scoped>\n",
       "    .dataframe tbody tr th:only-of-type {\n",
       "        vertical-align: middle;\n",
       "    }\n",
       "\n",
       "    .dataframe tbody tr th {\n",
       "        vertical-align: top;\n",
       "    }\n",
       "\n",
       "    .dataframe thead th {\n",
       "        text-align: right;\n",
       "    }\n",
       "</style>\n",
       "<table border=\"1\" class=\"dataframe\">\n",
       "  <thead>\n",
       "    <tr style=\"text-align: right;\">\n",
       "      <th></th>\n",
       "      <th>High</th>\n",
       "      <th>Low</th>\n",
       "      <th>Open</th>\n",
       "      <th>Close</th>\n",
       "      <th>Volume</th>\n",
       "      <th>Adj Close</th>\n",
       "    </tr>\n",
       "    <tr>\n",
       "      <th>Date</th>\n",
       "      <th></th>\n",
       "      <th></th>\n",
       "      <th></th>\n",
       "      <th></th>\n",
       "      <th></th>\n",
       "      <th></th>\n",
       "    </tr>\n",
       "  </thead>\n",
       "  <tbody>\n",
       "    <tr>\n",
       "      <th>2017-11-24</th>\n",
       "      <td>52.158901</td>\n",
       "      <td>51.750000</td>\n",
       "      <td>51.793499</td>\n",
       "      <td>52.030499</td>\n",
       "      <td>10740000.0</td>\n",
       "      <td>52.030499</td>\n",
       "    </tr>\n",
       "    <tr>\n",
       "      <th>2017-11-27</th>\n",
       "      <td>52.772999</td>\n",
       "      <td>51.922001</td>\n",
       "      <td>52.000000</td>\n",
       "      <td>52.710499</td>\n",
       "      <td>26158000.0</td>\n",
       "      <td>52.710499</td>\n",
       "    </tr>\n",
       "    <tr>\n",
       "      <th>2017-11-28</th>\n",
       "      <td>53.118752</td>\n",
       "      <td>52.000000</td>\n",
       "      <td>52.754501</td>\n",
       "      <td>52.370499</td>\n",
       "      <td>28488000.0</td>\n",
       "      <td>52.370499</td>\n",
       "    </tr>\n",
       "    <tr>\n",
       "      <th>2017-11-29</th>\n",
       "      <td>52.203999</td>\n",
       "      <td>50.782501</td>\n",
       "      <td>52.133999</td>\n",
       "      <td>51.083000</td>\n",
       "      <td>49188000.0</td>\n",
       "      <td>51.083000</td>\n",
       "    </tr>\n",
       "    <tr>\n",
       "      <th>2017-11-30</th>\n",
       "      <td>51.424500</td>\n",
       "      <td>50.750000</td>\n",
       "      <td>51.118500</td>\n",
       "      <td>51.070499</td>\n",
       "      <td>34480000.0</td>\n",
       "      <td>51.070499</td>\n",
       "    </tr>\n",
       "  </tbody>\n",
       "</table>\n",
       "</div>"
      ],
      "text/plain": [
       "                 High        Low       Open      Close      Volume  Adj Close\n",
       "Date                                                                         \n",
       "2017-11-24  52.158901  51.750000  51.793499  52.030499  10740000.0  52.030499\n",
       "2017-11-27  52.772999  51.922001  52.000000  52.710499  26158000.0  52.710499\n",
       "2017-11-28  53.118752  52.000000  52.754501  52.370499  28488000.0  52.370499\n",
       "2017-11-29  52.203999  50.782501  52.133999  51.083000  49188000.0  51.083000\n",
       "2017-11-30  51.424500  50.750000  51.118500  51.070499  34480000.0  51.070499"
      ]
     },
     "execution_count": 23,
     "metadata": {},
     "output_type": "execute_result"
    }
   ],
   "source": [
    "goog_11.tail()"
   ]
  },
  {
   "cell_type": "markdown",
   "metadata": {},
   "source": [
    "### 8. Merging Columns from different DataFrames"
   ]
  },
  {
   "cell_type": "code",
   "execution_count": 24,
   "metadata": {},
   "outputs": [
    {
     "data": {
      "text/html": [
       "<div>\n",
       "<style scoped>\n",
       "    .dataframe tbody tr th:only-of-type {\n",
       "        vertical-align: middle;\n",
       "    }\n",
       "\n",
       "    .dataframe tbody tr th {\n",
       "        vertical-align: top;\n",
       "    }\n",
       "\n",
       "    .dataframe thead th {\n",
       "        text-align: right;\n",
       "    }\n",
       "</style>\n",
       "<table border=\"1\" class=\"dataframe\">\n",
       "  <thead>\n",
       "    <tr style=\"text-align: right;\">\n",
       "      <th></th>\n",
       "      <th>AMZN</th>\n",
       "      <th>GOOG</th>\n",
       "    </tr>\n",
       "    <tr>\n",
       "      <th>Date</th>\n",
       "      <th></th>\n",
       "      <th></th>\n",
       "    </tr>\n",
       "  </thead>\n",
       "  <tbody>\n",
       "    <tr>\n",
       "      <th>2012-11-01</th>\n",
       "      <td>11.6070</td>\n",
       "      <td>17.125559</td>\n",
       "    </tr>\n",
       "    <tr>\n",
       "      <th>2012-11-02</th>\n",
       "      <td>11.6210</td>\n",
       "      <td>17.133778</td>\n",
       "    </tr>\n",
       "    <tr>\n",
       "      <th>2012-11-05</th>\n",
       "      <td>11.7165</td>\n",
       "      <td>17.010241</td>\n",
       "    </tr>\n",
       "    <tr>\n",
       "      <th>2012-11-06</th>\n",
       "      <td>11.8780</td>\n",
       "      <td>16.979357</td>\n",
       "    </tr>\n",
       "    <tr>\n",
       "      <th>2012-11-07</th>\n",
       "      <td>11.6030</td>\n",
       "      <td>16.615721</td>\n",
       "    </tr>\n",
       "  </tbody>\n",
       "</table>\n",
       "</div>"
      ],
      "text/plain": [
       "               AMZN       GOOG\n",
       "Date                          \n",
       "2012-11-01  11.6070  17.125559\n",
       "2012-11-02  11.6210  17.133778\n",
       "2012-11-05  11.7165  17.010241\n",
       "2012-11-06  11.8780  16.979357\n",
       "2012-11-07  11.6030  16.615721"
      ]
     },
     "execution_count": 24,
     "metadata": {},
     "output_type": "execute_result"
    }
   ],
   "source": [
    "close = pd.DataFrame({'AMZN' : amzn.Close, 'GOOG': goog.Close})\n",
    "close.head()"
   ]
  },
  {
   "cell_type": "markdown",
   "metadata": {},
   "source": [
    "### 8. Grouping and Sorting Data"
   ]
  },
  {
   "cell_type": "code",
   "execution_count": 25,
   "metadata": {},
   "outputs": [
    {
     "data": {
      "text/html": [
       "<div>\n",
       "<style scoped>\n",
       "    .dataframe tbody tr th:only-of-type {\n",
       "        vertical-align: middle;\n",
       "    }\n",
       "\n",
       "    .dataframe tbody tr th {\n",
       "        vertical-align: top;\n",
       "    }\n",
       "\n",
       "    .dataframe thead th {\n",
       "        text-align: right;\n",
       "    }\n",
       "</style>\n",
       "<table border=\"1\" class=\"dataframe\">\n",
       "  <thead>\n",
       "    <tr style=\"text-align: right;\">\n",
       "      <th></th>\n",
       "      <th>High</th>\n",
       "      <th>Low</th>\n",
       "      <th>Close</th>\n",
       "      <th>Volume</th>\n",
       "      <th>Adj Close</th>\n",
       "      <th>pct_chng</th>\n",
       "    </tr>\n",
       "    <tr>\n",
       "      <th>Open</th>\n",
       "      <th></th>\n",
       "      <th></th>\n",
       "      <th></th>\n",
       "      <th></th>\n",
       "      <th></th>\n",
       "      <th></th>\n",
       "    </tr>\n",
       "  </thead>\n",
       "  <tbody>\n",
       "    <tr>\n",
       "      <th>11.065500</th>\n",
       "      <td>11.312500</td>\n",
       "      <td>10.932000</td>\n",
       "      <td>11.261500</td>\n",
       "      <td>87056000.0</td>\n",
       "      <td>11.261500</td>\n",
       "      <td>0.020988</td>\n",
       "    </tr>\n",
       "    <tr>\n",
       "      <th>11.115000</th>\n",
       "      <td>11.258000</td>\n",
       "      <td>10.909000</td>\n",
       "      <td>11.030000</td>\n",
       "      <td>68094000.0</td>\n",
       "      <td>11.030000</td>\n",
       "      <td>-0.010541</td>\n",
       "    </tr>\n",
       "    <tr>\n",
       "      <th>11.256000</th>\n",
       "      <td>11.395000</td>\n",
       "      <td>11.235500</td>\n",
       "      <td>11.330000</td>\n",
       "      <td>52596000.0</td>\n",
       "      <td>11.330000</td>\n",
       "      <td>0.000574</td>\n",
       "    </tr>\n",
       "    <tr>\n",
       "      <th>11.313000</th>\n",
       "      <td>11.548500</td>\n",
       "      <td>11.230000</td>\n",
       "      <td>11.315500</td>\n",
       "      <td>61850000.0</td>\n",
       "      <td>11.315500</td>\n",
       "      <td>-0.004574</td>\n",
       "    </tr>\n",
       "    <tr>\n",
       "      <th>11.325000</th>\n",
       "      <td>11.370500</td>\n",
       "      <td>11.125500</td>\n",
       "      <td>11.147500</td>\n",
       "      <td>60682000.0</td>\n",
       "      <td>11.147500</td>\n",
       "      <td>-0.016108</td>\n",
       "    </tr>\n",
       "    <tr>\n",
       "      <th>...</th>\n",
       "      <td>...</td>\n",
       "      <td>...</td>\n",
       "      <td>...</td>\n",
       "      <td>...</td>\n",
       "      <td>...</td>\n",
       "      <td>...</td>\n",
       "    </tr>\n",
       "    <tr>\n",
       "      <th>185.442505</th>\n",
       "      <td>185.882996</td>\n",
       "      <td>183.041504</td>\n",
       "      <td>184.084000</td>\n",
       "      <td>65932000.0</td>\n",
       "      <td>184.084000</td>\n",
       "      <td>0.001175</td>\n",
       "    </tr>\n",
       "    <tr>\n",
       "      <th>185.634506</th>\n",
       "      <td>188.107498</td>\n",
       "      <td>183.785995</td>\n",
       "      <td>183.828506</td>\n",
       "      <td>98734000.0</td>\n",
       "      <td>183.828506</td>\n",
       "      <td>-0.005273</td>\n",
       "    </tr>\n",
       "    <tr>\n",
       "      <th>185.869003</th>\n",
       "      <td>186.710007</td>\n",
       "      <td>183.945496</td>\n",
       "      <td>184.828995</td>\n",
       "      <td>106562000.0</td>\n",
       "      <td>184.828995</td>\n",
       "      <td>0.005670</td>\n",
       "    </tr>\n",
       "    <tr>\n",
       "      <th>186.126007</th>\n",
       "      <td>187.399994</td>\n",
       "      <td>184.669998</td>\n",
       "      <td>185.966995</td>\n",
       "      <td>74964000.0</td>\n",
       "      <td>185.966995</td>\n",
       "      <td>-0.003235</td>\n",
       "    </tr>\n",
       "    <tr>\n",
       "      <th>187.199997</th>\n",
       "      <td>187.864502</td>\n",
       "      <td>184.839493</td>\n",
       "      <td>185.927505</td>\n",
       "      <td>51432000.0</td>\n",
       "      <td>185.927505</td>\n",
       "      <td>-0.000212</td>\n",
       "    </tr>\n",
       "  </tbody>\n",
       "</table>\n",
       "<p>2428 rows × 6 columns</p>\n",
       "</div>"
      ],
      "text/plain": [
       "                  High         Low       Close       Volume   Adj Close  \\\n",
       "Open                                                                      \n",
       "11.065500    11.312500   10.932000   11.261500   87056000.0   11.261500   \n",
       "11.115000    11.258000   10.909000   11.030000   68094000.0   11.030000   \n",
       "11.256000    11.395000   11.235500   11.330000   52596000.0   11.330000   \n",
       "11.313000    11.548500   11.230000   11.315500   61850000.0   11.315500   \n",
       "11.325000    11.370500   11.125500   11.147500   60682000.0   11.147500   \n",
       "...                ...         ...         ...          ...         ...   \n",
       "185.442505  185.882996  183.041504  184.084000   65932000.0  184.084000   \n",
       "185.634506  188.107498  183.785995  183.828506   98734000.0  183.828506   \n",
       "185.869003  186.710007  183.945496  184.828995  106562000.0  184.828995   \n",
       "186.126007  187.399994  184.669998  185.966995   74964000.0  185.966995   \n",
       "187.199997  187.864502  184.839493  185.927505   51432000.0  185.927505   \n",
       "\n",
       "            pct_chng  \n",
       "Open                  \n",
       "11.065500   0.020988  \n",
       "11.115000  -0.010541  \n",
       "11.256000   0.000574  \n",
       "11.313000  -0.004574  \n",
       "11.325000  -0.016108  \n",
       "...              ...  \n",
       "185.442505  0.001175  \n",
       "185.634506 -0.005273  \n",
       "185.869003  0.005670  \n",
       "186.126007 -0.003235  \n",
       "187.199997 -0.000212  \n",
       "\n",
       "[2428 rows x 6 columns]"
      ]
     },
     "execution_count": 25,
     "metadata": {},
     "output_type": "execute_result"
    }
   ],
   "source": [
    "amzn.groupby(['Open']).sum()"
   ]
  },
  {
   "cell_type": "code",
   "execution_count": 26,
   "metadata": {},
   "outputs": [
    {
     "data": {
      "text/plain": [
       "<AxesSubplot:xlabel='Date'>"
      ]
     },
     "execution_count": 26,
     "metadata": {},
     "output_type": "execute_result"
    },
    {
     "data": {
      "image/png": "[encoded data removed]",
      "text/plain": [
       "<Figure size 432x288 with 1 Axes>"
      ]
     },
     "metadata": {
      "needs_background": "light"
     },
     "output_type": "display_data"
    }
   ],
   "source": [
    "goog['Volume'][goog.index > '2017'].resample('M').mean().plot()\n",
    "# Resampled by the month \n"
   ]
  },
  {
   "cell_type": "markdown",
   "metadata": {},
   "source": [
    "### 10. Cumulative Sum and Rolling Calculations"
   ]
  },
  {
   "cell_type": "code",
   "execution_count": 27,
   "metadata": {},
   "outputs": [],
   "source": [
    "amzn_change = np.log(amzn.Close / amzn.Close.shift(1))\n",
    "goog_change = np.log(goog.Close / goog.Close.shift(1))"
   ]
  },
  {
   "cell_type": "code",
   "execution_count": 28,
   "metadata": {},
   "outputs": [
    {
     "data": {
      "text/plain": [
       "<AxesSubplot:xlabel='Date'>"
      ]
     },
     "execution_count": 28,
     "metadata": {},
     "output_type": "execute_result"
    },
    {
     "data": {
      "image/png": "[encoded data removed]",
      "text/plain": [
       "<Figure size 432x288 with 1 Axes>"
      ]
     },
     "metadata": {
      "needs_background": "light"
     },
     "output_type": "display_data"
    }
   ],
   "source": [
    "amzn_change.cumsum().plot()\n",
    "goog_change.cumsum().plot()"
   ]
  },
  {
   "cell_type": "markdown",
   "metadata": {},
   "source": [
    "### 11. Create new DataFrame and save to CSV"
   ]
  },
  {
   "cell_type": "code",
   "execution_count": 29,
   "metadata": {},
   "outputs": [
    {
     "data": {
      "text/html": [
       "<div>\n",
       "<style scoped>\n",
       "    .dataframe tbody tr th:only-of-type {\n",
       "        vertical-align: middle;\n",
       "    }\n",
       "\n",
       "    .dataframe tbody tr th {\n",
       "        vertical-align: top;\n",
       "    }\n",
       "\n",
       "    .dataframe thead th {\n",
       "        text-align: right;\n",
       "    }\n",
       "</style>\n",
       "<table border=\"1\" class=\"dataframe\">\n",
       "  <thead>\n",
       "    <tr style=\"text-align: right;\">\n",
       "      <th></th>\n",
       "      <th>AMZN</th>\n",
       "      <th>GOOG</th>\n",
       "    </tr>\n",
       "    <tr>\n",
       "      <th>Date</th>\n",
       "      <th></th>\n",
       "      <th></th>\n",
       "    </tr>\n",
       "  </thead>\n",
       "  <tbody>\n",
       "    <tr>\n",
       "      <th>2012-11-01</th>\n",
       "      <td>NaN</td>\n",
       "      <td>NaN</td>\n",
       "    </tr>\n",
       "    <tr>\n",
       "      <th>2012-11-02</th>\n",
       "      <td>0.001205</td>\n",
       "      <td>0.000480</td>\n",
       "    </tr>\n",
       "    <tr>\n",
       "      <th>2012-11-05</th>\n",
       "      <td>0.008184</td>\n",
       "      <td>-0.007236</td>\n",
       "    </tr>\n",
       "    <tr>\n",
       "      <th>2012-11-06</th>\n",
       "      <td>0.013690</td>\n",
       "      <td>-0.001817</td>\n",
       "    </tr>\n",
       "    <tr>\n",
       "      <th>2012-11-07</th>\n",
       "      <td>-0.023424</td>\n",
       "      <td>-0.021649</td>\n",
       "    </tr>\n",
       "  </tbody>\n",
       "</table>\n",
       "</div>"
      ],
      "text/plain": [
       "                AMZN      GOOG\n",
       "Date                          \n",
       "2012-11-01       NaN       NaN\n",
       "2012-11-02  0.001205  0.000480\n",
       "2012-11-05  0.008184 -0.007236\n",
       "2012-11-06  0.013690 -0.001817\n",
       "2012-11-07 -0.023424 -0.021649"
      ]
     },
     "execution_count": 29,
     "metadata": {},
     "output_type": "execute_result"
    }
   ],
   "source": [
    "new = pd.DataFrame(data = {'AMZN': amzn_change, 'GOOG': goog_change})\n",
    "# OR \n",
    "#new = pd.DataFrame(data = {'AMZN': amzn_change[1:], 'GOOG': goog_change[1:]})\n",
    "\n",
    "new.head()"
   ]
  },
  {
   "cell_type": "code",
   "execution_count": 30,
   "metadata": {},
   "outputs": [
    {
     "data": {
      "text/html": [
       "<div>\n",
       "<style scoped>\n",
       "    .dataframe tbody tr th:only-of-type {\n",
       "        vertical-align: middle;\n",
       "    }\n",
       "\n",
       "    .dataframe tbody tr th {\n",
       "        vertical-align: top;\n",
       "    }\n",
       "\n",
       "    .dataframe thead th {\n",
       "        text-align: right;\n",
       "    }\n",
       "</style>\n",
       "<table border=\"1\" class=\"dataframe\">\n",
       "  <thead>\n",
       "    <tr style=\"text-align: right;\">\n",
       "      <th></th>\n",
       "      <th>AMZN</th>\n",
       "      <th>GOOG</th>\n",
       "    </tr>\n",
       "    <tr>\n",
       "      <th>Date</th>\n",
       "      <th></th>\n",
       "      <th></th>\n",
       "    </tr>\n",
       "  </thead>\n",
       "  <tbody>\n",
       "    <tr>\n",
       "      <th>2012-11-02</th>\n",
       "      <td>0.001205</td>\n",
       "      <td>0.000480</td>\n",
       "    </tr>\n",
       "    <tr>\n",
       "      <th>2012-11-05</th>\n",
       "      <td>0.008184</td>\n",
       "      <td>-0.007236</td>\n",
       "    </tr>\n",
       "    <tr>\n",
       "      <th>2012-11-06</th>\n",
       "      <td>0.013690</td>\n",
       "      <td>-0.001817</td>\n",
       "    </tr>\n",
       "    <tr>\n",
       "      <th>2012-11-07</th>\n",
       "      <td>-0.023424</td>\n",
       "      <td>-0.021649</td>\n",
       "    </tr>\n",
       "    <tr>\n",
       "      <th>2012-11-08</th>\n",
       "      <td>-0.020505</td>\n",
       "      <td>-0.022481</td>\n",
       "    </tr>\n",
       "  </tbody>\n",
       "</table>\n",
       "</div>"
      ],
      "text/plain": [
       "                AMZN      GOOG\n",
       "Date                          \n",
       "2012-11-02  0.001205  0.000480\n",
       "2012-11-05  0.008184 -0.007236\n",
       "2012-11-06  0.013690 -0.001817\n",
       "2012-11-07 -0.023424 -0.021649\n",
       "2012-11-08 -0.020505 -0.022481"
      ]
     },
     "execution_count": 30,
     "metadata": {},
     "output_type": "execute_result"
    }
   ],
   "source": [
    "new.dropna(inplace=True)\n",
    "new.head()"
   ]
  },
  {
   "cell_type": "code",
   "execution_count": 31,
   "metadata": {},
   "outputs": [],
   "source": [
    "new.to_csv('stocks_Amzn_Goog.csv')"
   ]
  },
  {
   "cell_type": "code",
   "execution_count": 32,
   "metadata": {},
   "outputs": [
    {
     "data": {
      "text/html": [
       "<div>\n",
       "<style scoped>\n",
       "    .dataframe tbody tr th:only-of-type {\n",
       "        vertical-align: middle;\n",
       "    }\n",
       "\n",
       "    .dataframe tbody tr th {\n",
       "        vertical-align: top;\n",
       "    }\n",
       "\n",
       "    .dataframe thead th {\n",
       "        text-align: right;\n",
       "    }\n",
       "</style>\n",
       "<table border=\"1\" class=\"dataframe\">\n",
       "  <thead>\n",
       "    <tr style=\"text-align: right;\">\n",
       "      <th></th>\n",
       "      <th>Date</th>\n",
       "      <th>AMZN</th>\n",
       "      <th>GOOG</th>\n",
       "    </tr>\n",
       "  </thead>\n",
       "  <tbody>\n",
       "    <tr>\n",
       "      <th>0</th>\n",
       "      <td>2012-11-02</td>\n",
       "      <td>0.001205</td>\n",
       "      <td>0.000480</td>\n",
       "    </tr>\n",
       "    <tr>\n",
       "      <th>1</th>\n",
       "      <td>2012-11-05</td>\n",
       "      <td>0.008184</td>\n",
       "      <td>-0.007236</td>\n",
       "    </tr>\n",
       "    <tr>\n",
       "      <th>2</th>\n",
       "      <td>2012-11-06</td>\n",
       "      <td>0.013690</td>\n",
       "      <td>-0.001817</td>\n",
       "    </tr>\n",
       "    <tr>\n",
       "      <th>3</th>\n",
       "      <td>2012-11-07</td>\n",
       "      <td>-0.023424</td>\n",
       "      <td>-0.021649</td>\n",
       "    </tr>\n",
       "    <tr>\n",
       "      <th>4</th>\n",
       "      <td>2012-11-08</td>\n",
       "      <td>-0.020505</td>\n",
       "      <td>-0.022481</td>\n",
       "    </tr>\n",
       "  </tbody>\n",
       "</table>\n",
       "</div>"
      ],
      "text/plain": [
       "         Date      AMZN      GOOG\n",
       "0  2012-11-02  0.001205  0.000480\n",
       "1  2012-11-05  0.008184 -0.007236\n",
       "2  2012-11-06  0.013690 -0.001817\n",
       "3  2012-11-07 -0.023424 -0.021649\n",
       "4  2012-11-08 -0.020505 -0.022481"
      ]
     },
     "execution_count": 32,
     "metadata": {},
     "output_type": "execute_result"
    }
   ],
   "source": [
    "#To Import\n",
    "pd.read_csv('stocks_Amzn_Goog.csv').head()"
   ]
  },
  {
   "cell_type": "markdown",
   "metadata": {},
   "source": [
    "### 12. Change the index and remove columns"
   ]
  },
  {
   "cell_type": "code",
   "execution_count": 33,
   "metadata": {},
   "outputs": [
    {
     "data": {
      "text/html": [
       "<div>\n",
       "<style scoped>\n",
       "    .dataframe tbody tr th:only-of-type {\n",
       "        vertical-align: middle;\n",
       "    }\n",
       "\n",
       "    .dataframe tbody tr th {\n",
       "        vertical-align: top;\n",
       "    }\n",
       "\n",
       "    .dataframe thead th {\n",
       "        text-align: right;\n",
       "    }\n",
       "</style>\n",
       "<table border=\"1\" class=\"dataframe\">\n",
       "  <thead>\n",
       "    <tr style=\"text-align: right;\">\n",
       "      <th></th>\n",
       "      <th>Date</th>\n",
       "      <th>AMZN</th>\n",
       "      <th>GOOG</th>\n",
       "    </tr>\n",
       "    <tr>\n",
       "      <th>Date</th>\n",
       "      <th></th>\n",
       "      <th></th>\n",
       "      <th></th>\n",
       "    </tr>\n",
       "  </thead>\n",
       "  <tbody>\n",
       "    <tr>\n",
       "      <th>2012-11-02</th>\n",
       "      <td>2012-11-02</td>\n",
       "      <td>0.001205</td>\n",
       "      <td>0.000480</td>\n",
       "    </tr>\n",
       "    <tr>\n",
       "      <th>2012-11-05</th>\n",
       "      <td>2012-11-05</td>\n",
       "      <td>0.008184</td>\n",
       "      <td>-0.007236</td>\n",
       "    </tr>\n",
       "    <tr>\n",
       "      <th>2012-11-06</th>\n",
       "      <td>2012-11-06</td>\n",
       "      <td>0.013690</td>\n",
       "      <td>-0.001817</td>\n",
       "    </tr>\n",
       "    <tr>\n",
       "      <th>2012-11-07</th>\n",
       "      <td>2012-11-07</td>\n",
       "      <td>-0.023424</td>\n",
       "      <td>-0.021649</td>\n",
       "    </tr>\n",
       "    <tr>\n",
       "      <th>2012-11-08</th>\n",
       "      <td>2012-11-08</td>\n",
       "      <td>-0.020505</td>\n",
       "      <td>-0.022481</td>\n",
       "    </tr>\n",
       "  </tbody>\n",
       "</table>\n",
       "</div>"
      ],
      "text/plain": [
       "                  Date      AMZN      GOOG\n",
       "Date                                      \n",
       "2012-11-02  2012-11-02  0.001205  0.000480\n",
       "2012-11-05  2012-11-05  0.008184 -0.007236\n",
       "2012-11-06  2012-11-06  0.013690 -0.001817\n",
       "2012-11-07  2012-11-07 -0.023424 -0.021649\n",
       "2012-11-08  2012-11-08 -0.020505 -0.022481"
      ]
     },
     "execution_count": 33,
     "metadata": {},
     "output_type": "execute_result"
    }
   ],
   "source": [
    "new_stocks_df = pd.read_csv('stocks_Amzn_Goog.csv')\n",
    "new_stocks_df.index = new_stocks_df.Date\n",
    "\n",
    "# OR More effieciently new_stocks_df.set_index('Date')\n",
    "new_stocks_df.head()"
   ]
  },
  {
   "cell_type": "code",
   "execution_count": 34,
   "metadata": {},
   "outputs": [
    {
     "data": {
      "text/html": [
       "<div>\n",
       "<style scoped>\n",
       "    .dataframe tbody tr th:only-of-type {\n",
       "        vertical-align: middle;\n",
       "    }\n",
       "\n",
       "    .dataframe tbody tr th {\n",
       "        vertical-align: top;\n",
       "    }\n",
       "\n",
       "    .dataframe thead th {\n",
       "        text-align: right;\n",
       "    }\n",
       "</style>\n",
       "<table border=\"1\" class=\"dataframe\">\n",
       "  <thead>\n",
       "    <tr style=\"text-align: right;\">\n",
       "      <th></th>\n",
       "      <th>AMZN</th>\n",
       "      <th>GOOG</th>\n",
       "    </tr>\n",
       "    <tr>\n",
       "      <th>Date</th>\n",
       "      <th></th>\n",
       "      <th></th>\n",
       "    </tr>\n",
       "  </thead>\n",
       "  <tbody>\n",
       "    <tr>\n",
       "      <th>2012-11-02</th>\n",
       "      <td>0.001205</td>\n",
       "      <td>0.000480</td>\n",
       "    </tr>\n",
       "    <tr>\n",
       "      <th>2012-11-05</th>\n",
       "      <td>0.008184</td>\n",
       "      <td>-0.007236</td>\n",
       "    </tr>\n",
       "    <tr>\n",
       "      <th>2012-11-06</th>\n",
       "      <td>0.013690</td>\n",
       "      <td>-0.001817</td>\n",
       "    </tr>\n",
       "    <tr>\n",
       "      <th>2012-11-07</th>\n",
       "      <td>-0.023424</td>\n",
       "      <td>-0.021649</td>\n",
       "    </tr>\n",
       "    <tr>\n",
       "      <th>2012-11-08</th>\n",
       "      <td>-0.020505</td>\n",
       "      <td>-0.022481</td>\n",
       "    </tr>\n",
       "  </tbody>\n",
       "</table>\n",
       "</div>"
      ],
      "text/plain": [
       "                AMZN      GOOG\n",
       "Date                          \n",
       "2012-11-02  0.001205  0.000480\n",
       "2012-11-05  0.008184 -0.007236\n",
       "2012-11-06  0.013690 -0.001817\n",
       "2012-11-07 -0.023424 -0.021649\n",
       "2012-11-08 -0.020505 -0.022481"
      ]
     },
     "execution_count": 34,
     "metadata": {},
     "output_type": "execute_result"
    }
   ],
   "source": [
    "new_stocks_df.drop(['Date'], axis =1, inplace= True)\n",
    "new_stocks_df.head()"
   ]
  },
  {
   "cell_type": "markdown",
   "metadata": {},
   "source": [
    "### 13. Rename Columns"
   ]
  },
  {
   "cell_type": "code",
   "execution_count": 35,
   "metadata": {},
   "outputs": [
    {
     "data": {
      "text/html": [
       "<div>\n",
       "<style scoped>\n",
       "    .dataframe tbody tr th:only-of-type {\n",
       "        vertical-align: middle;\n",
       "    }\n",
       "\n",
       "    .dataframe tbody tr th {\n",
       "        vertical-align: top;\n",
       "    }\n",
       "\n",
       "    .dataframe thead th {\n",
       "        text-align: right;\n",
       "    }\n",
       "</style>\n",
       "<table border=\"1\" class=\"dataframe\">\n",
       "  <thead>\n",
       "    <tr style=\"text-align: right;\">\n",
       "      <th></th>\n",
       "      <th>AMZN_chng</th>\n",
       "      <th>GOOG</th>\n",
       "    </tr>\n",
       "    <tr>\n",
       "      <th>Date</th>\n",
       "      <th></th>\n",
       "      <th></th>\n",
       "    </tr>\n",
       "  </thead>\n",
       "  <tbody>\n",
       "    <tr>\n",
       "      <th>2012-11-02</th>\n",
       "      <td>0.001205</td>\n",
       "      <td>0.000480</td>\n",
       "    </tr>\n",
       "    <tr>\n",
       "      <th>2012-11-05</th>\n",
       "      <td>0.008184</td>\n",
       "      <td>-0.007236</td>\n",
       "    </tr>\n",
       "    <tr>\n",
       "      <th>2012-11-06</th>\n",
       "      <td>0.013690</td>\n",
       "      <td>-0.001817</td>\n",
       "    </tr>\n",
       "    <tr>\n",
       "      <th>2012-11-07</th>\n",
       "      <td>-0.023424</td>\n",
       "      <td>-0.021649</td>\n",
       "    </tr>\n",
       "    <tr>\n",
       "      <th>2012-11-08</th>\n",
       "      <td>-0.020505</td>\n",
       "      <td>-0.022481</td>\n",
       "    </tr>\n",
       "  </tbody>\n",
       "</table>\n",
       "</div>"
      ],
      "text/plain": [
       "            AMZN_chng      GOOG\n",
       "Date                           \n",
       "2012-11-02   0.001205  0.000480\n",
       "2012-11-05   0.008184 -0.007236\n",
       "2012-11-06   0.013690 -0.001817\n",
       "2012-11-07  -0.023424 -0.021649\n",
       "2012-11-08  -0.020505 -0.022481"
      ]
     },
     "execution_count": 35,
     "metadata": {},
     "output_type": "execute_result"
    }
   ],
   "source": [
    "new_stocks_df.rename(columns = {'AMZN': 'AMZN_chng'}, inplace=True)\n",
    "new_stocks_df.head()"
   ]
  },
  {
   "cell_type": "code",
   "execution_count": 37,
   "metadata": {},
   "outputs": [
    {
     "name": "stderr",
     "output_type": "stream",
     "text": [
      "<ipython-input-37-16bba0e120e0>:3: VisibleDeprecationWarning: Creating an ndarray from ragged nested sequences (which is a list-or-tuple of lists-or-tuples-or ndarrays with different lengths or shapes) is deprecated. If you meant to do this, you must specify 'dtype=object' when creating the ndarray\n",
      "  'pets': np.array([['cat', 'dog'],\n"
     ]
    },
    {
     "data": {
      "text/html": [
       "<div>\n",
       "<style scoped>\n",
       "    .dataframe tbody tr th:only-of-type {\n",
       "        vertical-align: middle;\n",
       "    }\n",
       "\n",
       "    .dataframe tbody tr th {\n",
       "        vertical-align: top;\n",
       "    }\n",
       "\n",
       "    .dataframe thead th {\n",
       "        text-align: right;\n",
       "    }\n",
       "</style>\n",
       "<table border=\"1\" class=\"dataframe\">\n",
       "  <thead>\n",
       "    <tr style=\"text-align: right;\">\n",
       "      <th></th>\n",
       "      <th>sex</th>\n",
       "      <th>age</th>\n",
       "      <th>pets</th>\n",
       "    </tr>\n",
       "  </thead>\n",
       "  <tbody>\n",
       "    <tr>\n",
       "      <th>0</th>\n",
       "      <td>M</td>\n",
       "      <td>21</td>\n",
       "      <td>[cat, dog]</td>\n",
       "    </tr>\n",
       "    <tr>\n",
       "      <th>1</th>\n",
       "      <td>M</td>\n",
       "      <td>45</td>\n",
       "      <td>[hamster]</td>\n",
       "    </tr>\n",
       "    <tr>\n",
       "      <th>2</th>\n",
       "      <td>F</td>\n",
       "      <td>23</td>\n",
       "      <td>[cat, gerbil]</td>\n",
       "    </tr>\n",
       "    <tr>\n",
       "      <th>3</th>\n",
       "      <td>M</td>\n",
       "      <td>56</td>\n",
       "      <td>[fish, hamster, gerbil]</td>\n",
       "    </tr>\n",
       "    <tr>\n",
       "      <th>4</th>\n",
       "      <td>F</td>\n",
       "      <td>47</td>\n",
       "      <td>[cat]</td>\n",
       "    </tr>\n",
       "  </tbody>\n",
       "</table>\n",
       "</div>"
      ],
      "text/plain": [
       "  sex  age                     pets\n",
       "0   M   21               [cat, dog]\n",
       "1   M   45                [hamster]\n",
       "2   F   23            [cat, gerbil]\n",
       "3   M   56  [fish, hamster, gerbil]\n",
       "4   F   47                    [cat]"
      ]
     },
     "execution_count": 37,
     "metadata": {},
     "output_type": "execute_result"
    }
   ],
   "source": [
    "pets = pd.DataFrame({'sex': np.array(['M', 'M', 'F', 'M', 'F', 'F', 'F', 'M', 'F', 'M']),\n",
    "                   'age': np.array([21, 45, 23, 56, 47, 70, 34, 30, 19, 62]),\n",
    "                   'pets': np.array([['cat', 'dog'],\n",
    "                                    ['hamster'],\n",
    "                                    ['cat', 'gerbil'],\n",
    "                                    ['fish', 'hamster', 'gerbil'],\n",
    "                                    ['cat'],\n",
    "                                    ['dog'],\n",
    "                                    ['dog'],\n",
    "                                    ['cat'],\n",
    "                                    ['rabbit', 'cat'],\n",
    "                                    ['dog']])})\n",
    "pets.head()"
   ]
  },
  {
   "cell_type": "markdown",
   "metadata": {},
   "source": [
    "# What sex was the youngest respondent?\n",
    "* Hint, you might find the .loc accessor useful here. Think about breaking this task down into creating a boolean index that is True where the value in the age column is equal to the minimum of the age column. Then select the sex column."
   ]
  },
  {
   "cell_type": "code",
   "execution_count": 40,
   "metadata": {},
   "outputs": [
    {
     "data": {
      "text/plain": [
       "8    F\n",
       "Name: sex, dtype: object"
      ]
     },
     "execution_count": 40,
     "metadata": {},
     "output_type": "execute_result"
    }
   ],
   "source": [
    "pets.loc[pets['age']== pets.age.min(), 'sex']"
   ]
  },
  {
   "cell_type": "markdown",
   "metadata": {},
   "source": [
    "# What age was the person with the most pets?\n",
    "* Hint, you may find apply ing len as a lambda function to the pets column useful here. Remember that calling len on the pets column will just return the length of the series, which is the number of rows in the DataFrame. In fact, adding useful features to your data is a very common thing in data science, so go ahead and create a new column in our pets DataFrame and call it 'num_pets'."
   ]
  },
  {
   "cell_type": "code",
   "execution_count": 42,
   "metadata": {},
   "outputs": [
    {
     "data": {
      "text/plain": [
       "3    56\n",
       "Name: age, dtype: int32"
      ]
     },
     "execution_count": 42,
     "metadata": {},
     "output_type": "execute_result"
    }
   ],
   "source": [
    "pets['num_pets'] = pets['pets'].apply(lambda x: len(x))\n",
    "pets.loc[pets.num_pets == pets.num_pets.max(), 'age']"
   ]
  },
  {
   "cell_type": "markdown",
   "metadata": {},
   "source": [
    "# What was the most popular pet?\n",
    "\n",
    "* This is a very interesting question, given the data, because the data are arranged by respondent, not by pet. We need to get into the pets column now in order to count each type of animal. To do this, we could perform a list comprehension and iterate over each list element for each Series element. But here we're going to give you a handy way to convert that Series of lists into a (longer) Series. The reason for this is to end up with another Series, which means we still have access to the powerful methods available from pandas."
   ]
  },
  {
   "cell_type": "code",
   "execution_count": 48,
   "metadata": {},
   "outputs": [
    {
     "data": {
      "text/html": [
       "<div>\n",
       "<style scoped>\n",
       "    .dataframe tbody tr th:only-of-type {\n",
       "        vertical-align: middle;\n",
       "    }\n",
       "\n",
       "    .dataframe tbody tr th {\n",
       "        vertical-align: top;\n",
       "    }\n",
       "\n",
       "    .dataframe thead th {\n",
       "        text-align: right;\n",
       "    }\n",
       "</style>\n",
       "<table border=\"1\" class=\"dataframe\">\n",
       "  <thead>\n",
       "    <tr style=\"text-align: right;\">\n",
       "      <th></th>\n",
       "      <th>0</th>\n",
       "      <th>1</th>\n",
       "      <th>2</th>\n",
       "    </tr>\n",
       "  </thead>\n",
       "  <tbody>\n",
       "    <tr>\n",
       "      <th>0</th>\n",
       "      <td>cat</td>\n",
       "      <td>dog</td>\n",
       "      <td>NaN</td>\n",
       "    </tr>\n",
       "    <tr>\n",
       "      <th>1</th>\n",
       "      <td>hamster</td>\n",
       "      <td>NaN</td>\n",
       "      <td>NaN</td>\n",
       "    </tr>\n",
       "    <tr>\n",
       "      <th>2</th>\n",
       "      <td>cat</td>\n",
       "      <td>gerbil</td>\n",
       "      <td>NaN</td>\n",
       "    </tr>\n",
       "    <tr>\n",
       "      <th>3</th>\n",
       "      <td>fish</td>\n",
       "      <td>hamster</td>\n",
       "      <td>gerbil</td>\n",
       "    </tr>\n",
       "    <tr>\n",
       "      <th>4</th>\n",
       "      <td>cat</td>\n",
       "      <td>NaN</td>\n",
       "      <td>NaN</td>\n",
       "    </tr>\n",
       "    <tr>\n",
       "      <th>5</th>\n",
       "      <td>dog</td>\n",
       "      <td>NaN</td>\n",
       "      <td>NaN</td>\n",
       "    </tr>\n",
       "    <tr>\n",
       "      <th>6</th>\n",
       "      <td>dog</td>\n",
       "      <td>NaN</td>\n",
       "      <td>NaN</td>\n",
       "    </tr>\n",
       "    <tr>\n",
       "      <th>7</th>\n",
       "      <td>cat</td>\n",
       "      <td>NaN</td>\n",
       "      <td>NaN</td>\n",
       "    </tr>\n",
       "    <tr>\n",
       "      <th>8</th>\n",
       "      <td>rabbit</td>\n",
       "      <td>cat</td>\n",
       "      <td>NaN</td>\n",
       "    </tr>\n",
       "    <tr>\n",
       "      <th>9</th>\n",
       "      <td>dog</td>\n",
       "      <td>NaN</td>\n",
       "      <td>NaN</td>\n",
       "    </tr>\n",
       "  </tbody>\n",
       "</table>\n",
       "</div>"
      ],
      "text/plain": [
       "         0        1       2\n",
       "0      cat      dog     NaN\n",
       "1  hamster      NaN     NaN\n",
       "2      cat   gerbil     NaN\n",
       "3     fish  hamster  gerbil\n",
       "4      cat      NaN     NaN\n",
       "5      dog      NaN     NaN\n",
       "6      dog      NaN     NaN\n",
       "7      cat      NaN     NaN\n",
       "8   rabbit      cat     NaN\n",
       "9      dog      NaN     NaN"
      ]
     },
     "execution_count": 48,
     "metadata": {},
     "output_type": "execute_result"
    }
   ],
   "source": [
    "pets['pets'].apply(pd.Series)"
   ]
  },
  {
   "cell_type": "code",
   "execution_count": 52,
   "metadata": {},
   "outputs": [
    {
     "data": {
      "text/plain": [
       "0         cat\n",
       "1         dog\n",
       "2     hamster\n",
       "3         cat\n",
       "4      gerbil\n",
       "5        fish\n",
       "6     hamster\n",
       "7      gerbil\n",
       "8         cat\n",
       "9         dog\n",
       "10        dog\n",
       "11        cat\n",
       "12     rabbit\n",
       "13        cat\n",
       "14        dog\n",
       "dtype: object"
      ]
     },
     "execution_count": 52,
     "metadata": {},
     "output_type": "execute_result"
    }
   ],
   "source": [
    "pet_series = pets['pets'].apply(pd.Series).stack().reset_index(drop=True)\n",
    "pet_series"
   ]
  },
  {
   "cell_type": "code",
   "execution_count": 56,
   "metadata": {},
   "outputs": [
    {
     "data": {
      "text/plain": [
       "cat        5\n",
       "dog        4\n",
       "hamster    2\n",
       "gerbil     2\n",
       "fish       1\n",
       "rabbit     1\n",
       "dtype: int64"
      ]
     },
     "execution_count": 56,
     "metadata": {},
     "output_type": "execute_result"
    }
   ],
   "source": [
    "pet_series.value_counts()"
   ]
  },
  {
   "cell_type": "markdown",
   "metadata": {},
   "source": [
    "# What was the average age of dog owners?\n",
    "* Hint, again here you may find it useful to use a lambda function to create a boolean index which is True if a respondent said they had a dog and False otherwise."
   ]
  },
  {
   "cell_type": "code",
   "execution_count": 58,
   "metadata": {},
   "outputs": [
    {
     "data": {
      "text/plain": [
       "46.75"
      ]
     },
     "execution_count": 58,
     "metadata": {},
     "output_type": "execute_result"
    }
   ],
   "source": [
    "pets.loc[pets.pets.apply(lambda x: 'dog' in x), 'age'].mean()"
   ]
  },
  {
   "cell_type": "code",
   "execution_count": null,
   "metadata": {},
   "outputs": [],
   "source": []
  }
 ],
 "metadata": {
  "kernelspec": {
   "display_name": "Python 3",
   "language": "python",
   "name": "python3"
  },
  "language_info": {
   "codemirror_mode": {
    "name": "ipython",
    "version": 3
   },
   "file_extension": ".py",
   "mimetype": "text/x-python",
   "name": "python",
   "nbconvert_exporter": "python",
   "pygments_lexer": "ipython3",
   "version": "3.8.5"
  }
 },
 "nbformat": 4,
 "nbformat_minor": 4
}
