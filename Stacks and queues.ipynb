{
 "cells": [
  {
   "cell_type": "markdown",
   "metadata": {},
   "source": [
    "Stacks"
   ]
  },
  {
   "cell_type": "code",
   "execution_count": 5,
   "metadata": {},
   "outputs": [
    {
     "name": "stdout",
     "output_type": "stream",
     "text": [
      "0\n",
      "True\n",
      "None\n",
      "[]\n"
     ]
    }
   ],
   "source": [
    "stack =[]\n",
    "\n",
    "def is_empty(stack):\n",
    "    if stack.items == []:\n",
    "        return True\n",
    "    else:\n",
    "        return False\n",
    "def push(stack, new_item):\n",
    "    stack.append(new_item)\n",
    "    return stack\n",
    "def pop(stack):\n",
    "    if len(stack) < 1:\n",
    "        return None\n",
    "    return stack.pop()\n",
    "\n",
    "def is_empty(stack):\n",
    "    if len(stack) == 0:\n",
    "        return True\n",
    "    else:\n",
    "        return False\n",
    "def size(stack):\n",
    "    number_of_elements = len(stack)\n",
    "    return number_of_elements\n",
    "print(size(stack))\n",
    "\n",
    "print(is_empty(stack))\n",
    "print(pop(stack))\n",
    "print(stack)"
   ]
  },
  {
   "cell_type": "markdown",
   "metadata": {},
   "source": [
    "Is it Empty?"
   ]
  },
  {
   "cell_type": "code",
   "execution_count": 6,
   "metadata": {},
   "outputs": [
    {
     "name": "stdout",
     "output_type": "stream",
     "text": [
      "Empty\n"
     ]
    }
   ],
   "source": [
    "list_example = []\n",
    " \n",
    "if len(list_example) == 0:\n",
    "    print(\"Empty\")\n",
    "else:\n",
    "    print(\"Not empty\")"
   ]
  },
  {
   "cell_type": "markdown",
   "metadata": {},
   "source": [
    "The second way (and the way we recommend you use when working on the task for this exercise) is to check to see if the list is equal to an empty list.\n",
    "\n",
    "Here's how this way would look:/\n"
   ]
  },
  {
   "cell_type": "code",
   "execution_count": 8,
   "metadata": {},
   "outputs": [
    {
     "name": "stdout",
     "output_type": "stream",
     "text": [
      "[]\n"
     ]
    }
   ],
   "source": [
    "list_example = []\n",
    " \n",
    "if len(list_example) == []:\n",
    "    print(\"Empty\")\n",
    "print(list_example)"
   ]
  },
  {
   "cell_type": "markdown",
   "metadata": {},
   "source": [
    "5.1.1.5. How many more elements are there?"
   ]
  },
  {
   "cell_type": "code",
   "execution_count": 10,
   "metadata": {},
   "outputs": [
    {
     "name": "stdout",
     "output_type": "stream",
     "text": [
      "0\n"
     ]
    }
   ],
   "source": [
    "stack = []\n",
    "def size(stack):\n",
    "    number_of_elements = len(stack)\n",
    "    return number_of_elements\n",
    "print(size(stack))"
   ]
  },
  {
   "cell_type": "markdown",
   "metadata": {},
   "source": [
    "We said at the beginning that our data structure for the ADT of the stack was going to be a Python class. So let's see it! It'll look like this:"
   ]
  },
  {
   "cell_type": "markdown",
   "metadata": {},
   "source": [
    "The def_init_(self) is the constructor: the part of the class that assigns initial values to, or initializes, an instance of the class once it's made. The def_init_ is a keyword and has to be there, but the self could have been given a different name. All this constructor is doing is saying: each time the class Stack is instantiated, just make an empty list and call it stack. The self variable needs to be there just to keep things local to the particular stack instance we're making when we instantiate the class.\n",
    "\n",
    "Then we simply have our pop(), push() and size() methods in our class! Neat huh?"
   ]
  },
  {
   "cell_type": "code",
   "execution_count": 20,
   "metadata": {},
   "outputs": [],
   "source": [
    "class Stack:\n",
    "    def __init__(self):\n",
    "        self.stack = []\n",
    " \n",
    "    def pop(self):\n",
    "        if len(self.stack) < 1:\n",
    "            return None\n",
    "        return self.stack.pop()\n",
    " \n",
    "    def push(self, item):\n",
    "        self.stack.append(item)\n",
    " \n",
    "    def size(self):\n",
    "        return len(self.stack)"
   ]
  },
  {
   "cell_type": "code",
   "execution_count": 30,
   "metadata": {},
   "outputs": [
    {
     "name": "stdout",
     "output_type": "stream",
     "text": [
      "None\n",
      "5\n",
      "0\n"
     ]
    }
   ],
   "source": [
    "stack = Stack()\n",
    "print(stack.push(5))\n",
    "print(stack.pop())\n",
    "print(stack.size())"
   ]
  },
  {
   "cell_type": "markdown",
   "metadata": {},
   "source": [
    "Queue"
   ]
  },
  {
   "cell_type": "code",
   "execution_count": 57,
   "metadata": {},
   "outputs": [],
   "source": [
    "queue = []\n",
    "\n",
    "def enqueue(queue, new_item):\n",
    "    queue.append(new_item)\n",
    "\n",
    "def dequeue(queue):\n",
    "    queue.pop(0)\n",
    "\n",
    "def is_empty(queue):\n",
    "    if len(queue) == 0:\n",
    "        return True\n",
    "    else:\n",
    "        return False\n",
    "def size(queue):\n",
    "    return len(queue)"
   ]
  },
  {
   "cell_type": "code",
   "execution_count": 37,
   "metadata": {},
   "outputs": [
    {
     "name": "stdout",
     "output_type": "stream",
     "text": [
      "None\n",
      "[5, 5, 5, 6, 9]\n"
     ]
    }
   ],
   "source": [
    "print(enqueue(queue, 9))\n",
    "print(queue)"
   ]
  },
  {
   "cell_type": "code",
   "execution_count": 42,
   "metadata": {},
   "outputs": [
    {
     "name": "stdout",
     "output_type": "stream",
     "text": [
      "[5, 6, 9]\n"
     ]
    }
   ],
   "source": [
    "dequeue(queue)\n",
    "print(queue)"
   ]
  },
  {
   "cell_type": "code",
   "execution_count": 47,
   "metadata": {},
   "outputs": [],
   "source": [
    "food = 'banana','apple','strawberry','coconut'"
   ]
  },
  {
   "cell_type": "code",
   "execution_count": 48,
   "metadata": {},
   "outputs": [
    {
     "name": "stdout",
     "output_type": "stream",
     "text": [
      "[5, 6, 9, ['banana', 'apple', 'strawberry', 'coconut'], ('banana', 'apple', 'strawberry', 'coconut')]\n"
     ]
    }
   ],
   "source": [
    "enqueue(queue, food)\n",
    "print(queue)"
   ]
  },
  {
   "cell_type": "code",
   "execution_count": 55,
   "metadata": {},
   "outputs": [
    {
     "name": "stdout",
     "output_type": "stream",
     "text": [
      "[]\n"
     ]
    }
   ],
   "source": [
    "dequeue(queue)\n",
    "print(queue)"
   ]
  },
  {
   "cell_type": "code",
   "execution_count": 58,
   "metadata": {},
   "outputs": [
    {
     "data": {
      "text/plain": [
       "True"
      ]
     },
     "execution_count": 58,
     "metadata": {},
     "output_type": "execute_result"
    }
   ],
   "source": [
    "is_empty(queue)"
   ]
  },
  {
   "cell_type": "code",
   "execution_count": null,
   "metadata": {},
   "outputs": [],
   "source": []
  }
 ],
 "metadata": {
  "kernelspec": {
   "display_name": "Python 3",
   "language": "python",
   "name": "python3"
  },
  "language_info": {
   "codemirror_mode": {
    "name": "ipython",
    "version": 3
   },
   "file_extension": ".py",
   "mimetype": "text/x-python",
   "name": "python",
   "nbconvert_exporter": "python",
   "pygments_lexer": "ipython3",
   "version": "3.8.5"
  }
 },
 "nbformat": 4,
 "nbformat_minor": 4
}
